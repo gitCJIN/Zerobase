{
 "cells": [
  {
   "cell_type": "markdown",
   "id": "26e32854-1aa1-421c-a785-5bcbeb23e303",
   "metadata": {},
   "source": [
    "# Selenium Basic\n",
    "- https://www.selenium.dev/documentation\n",
    "- https://selenium-python.readthedocs.io/installation.html"
   ]
  },
  {
   "cell_type": "markdown",
   "id": "c8fd77c1-5f73-4c99-9956-e0662a3d5b0a",
   "metadata": {},
   "source": [
    "### 1. Selenium webdriver 사용하기"
   ]
  },
  {
   "cell_type": "code",
   "execution_count": 3,
   "id": "ea971f18-d216-471e-99c2-fa4453ad1054",
   "metadata": {},
   "outputs": [],
   "source": [
    "from selenium import webdriver\n",
    "from selenium.webdriver.common.by import By"
   ]
  },
  {
   "cell_type": "code",
   "execution_count": 5,
   "id": "c1fb854d-2502-4a38-a500-075784f1c1dd",
   "metadata": {},
   "outputs": [],
   "source": [
    "driver = webdriver.Chrome()\n",
    "driver.get('https://pinkwink.kr')"
   ]
  },
  {
   "cell_type": "code",
   "execution_count": 4,
   "id": "3599b429-3650-4d46-b2c1-fda6c51cf00f",
   "metadata": {},
   "outputs": [],
   "source": [
    "driver.quit()"
   ]
  },
  {
   "cell_type": "code",
   "execution_count": 8,
   "id": "7ee1f5b4-8c92-45cf-97dc-25ddc3a130b9",
   "metadata": {},
   "outputs": [],
   "source": [
    "# 화면 최대 크기 설정\n",
    "driver.maximize_window()"
   ]
  },
  {
   "cell_type": "code",
   "execution_count": 7,
   "id": "dab3d1f8-0dec-4809-9387-3a4138c98426",
   "metadata": {},
   "outputs": [],
   "source": [
    "# 화면 최소 크기 설정\n",
    "driver.minimize_window()"
   ]
  },
  {
   "cell_type": "code",
   "execution_count": 9,
   "id": "7dbd830d-a1b3-404a-9375-6b1a3ccbbf07",
   "metadata": {},
   "outputs": [],
   "source": [
    "# 화면 크기 설정\n",
    "driver.set_window_size(600,600)"
   ]
  },
  {
   "cell_type": "code",
   "execution_count": 10,
   "id": "2d4ba0dc-7dc2-4487-b8e8-b8462b760aa0",
   "metadata": {},
   "outputs": [],
   "source": [
    "# 새로 고침\n",
    "driver.refresh()"
   ]
  },
  {
   "cell_type": "code",
   "execution_count": 15,
   "id": "400c3ed0-0935-4be9-9bce-07c750178280",
   "metadata": {},
   "outputs": [],
   "source": [
    "# 뒤로 가기\n",
    "driver.back()"
   ]
  },
  {
   "cell_type": "code",
   "execution_count": 14,
   "id": "6185f872-2f48-4d51-b900-44db183b29bd",
   "metadata": {},
   "outputs": [],
   "source": [
    "# 앞으로 가기\n",
    "driver.forward()"
   ]
  },
  {
   "cell_type": "code",
   "execution_count": 17,
   "id": "87635b55-55a8-4fbc-8f62-99b7800b6a32",
   "metadata": {},
   "outputs": [],
   "source": [
    "# 클릭\n",
    "from selenium.webdriver.common.by import By\n",
    "\n",
    "first_content = driver.find_element(By.CSS_SELECTOR,'#content > div.cover-masonry > div > ul > li:nth-child(1)')\n",
    "first_content.click()"
   ]
  },
  {
   "cell_type": "code",
   "execution_count": 28,
   "id": "69e67e0b-5b8f-4a19-9cf0-85f40d928854",
   "metadata": {},
   "outputs": [],
   "source": [
    "# 새로운 탭 생성\n",
    "driver.execute_script('window.open(\"https://www.naver.com\")')"
   ]
  },
  {
   "cell_type": "code",
   "execution_count": 41,
   "id": "0c886e87-e4f1-41a0-80f1-072d067287cf",
   "metadata": {},
   "outputs": [],
   "source": [
    "# 탭 이동\n",
    "driver.switch_to.window(driver.window_handles[1])"
   ]
  },
  {
   "cell_type": "code",
   "execution_count": 30,
   "id": "270479f6-bb9b-450d-a587-952ef4c8615d",
   "metadata": {},
   "outputs": [
    {
     "data": {
      "text/plain": [
       "5"
      ]
     },
     "execution_count": 30,
     "metadata": {},
     "output_type": "execute_result"
    }
   ],
   "source": [
    "len(driver.window_handles)"
   ]
  },
  {
   "cell_type": "code",
   "execution_count": 42,
   "id": "6f94340b-6ae1-4cc3-bfe0-15e91254f7a5",
   "metadata": {},
   "outputs": [],
   "source": [
    "# 탭 닫기\n",
    "driver.close()"
   ]
  },
  {
   "cell_type": "code",
   "execution_count": 43,
   "id": "3d2427e9-8e7c-4b04-825c-6d595b6dfa3d",
   "metadata": {},
   "outputs": [],
   "source": [
    "driver.quit()"
   ]
  },
  {
   "cell_type": "markdown",
   "id": "26a5221b-4218-424a-b728-d1cba7271e9c",
   "metadata": {},
   "source": [
    "## 2. 화면 스크롤"
   ]
  },
  {
   "cell_type": "code",
   "execution_count": 14,
   "id": "c2ee9d8a-120b-4406-b01d-2c4807e32b90",
   "metadata": {},
   "outputs": [
    {
     "data": {
      "text/plain": [
       "5705"
      ]
     },
     "execution_count": 14,
     "metadata": {},
     "output_type": "execute_result"
    }
   ],
   "source": [
    "# 스크롤 가능한 높이(길이)\n",
    "# 자바스크립트 코드 실행\n",
    "driver.execute_script('return document.body.scrollHeight')"
   ]
  },
  {
   "cell_type": "code",
   "execution_count": 15,
   "id": "d382fb2d-7414-4caa-a9bc-85c1cff2e5f4",
   "metadata": {},
   "outputs": [],
   "source": [
    "# 화면 스크롤 하단 이동\n",
    "driver.execute_script('window.scrollTo(0,document.body.scrollHeight);')"
   ]
  },
  {
   "cell_type": "code",
   "execution_count": 10,
   "id": "1a017ada-54b7-4f6d-bbd3-4d9622e126ef",
   "metadata": {},
   "outputs": [
    {
     "data": {
      "text/plain": [
       "True"
      ]
     },
     "execution_count": 10,
     "metadata": {},
     "output_type": "execute_result"
    }
   ],
   "source": [
    "# 현재 보이는 화면 스크린샷 저장\n",
    "driver.save_screenshot('./last_height.png')"
   ]
  },
  {
   "cell_type": "code",
   "execution_count": 16,
   "id": "3ad1b72f-d35b-4c80-99e9-e96adbee30c7",
   "metadata": {},
   "outputs": [],
   "source": [
    "# 화면 스크롤 상단 이동\n",
    "driver.execute_script('window.scrollTo(0,0);')"
   ]
  },
  {
   "cell_type": "code",
   "execution_count": 18,
   "id": "54046a72-1212-4053-bd0d-71827c95803a",
   "metadata": {},
   "outputs": [],
   "source": [
    "# 특정 태그 지점까지 스크롤 이동\n",
    "from selenium.webdriver import ActionChains\n",
    "\n",
    "some_tag = driver.find_element(By.CSS_SELECTOR, ('#content > div:nth-child(7) > div > ul > li:nth-child(1)'))\n",
    "action = ActionChains(driver)\n",
    "action.move_to_element(some_tag).perform()"
   ]
  },
  {
   "cell_type": "code",
   "execution_count": 19,
   "id": "a25eb82c-6b92-4e0b-acea-e4cbd1fdab60",
   "metadata": {},
   "outputs": [],
   "source": [
    "driver.quit()"
   ]
  },
  {
   "cell_type": "markdown",
   "id": "71229645-27f8-4433-b802-a96a53de50ac",
   "metadata": {},
   "source": [
    "## 3. 검색어 입력\n",
    "\n",
    "- CSS_SELECTOR"
   ]
  },
  {
   "cell_type": "code",
   "execution_count": 1,
   "id": "e68d78a9-ba5e-4f4a-ac9b-d8f6dc8b333c",
   "metadata": {},
   "outputs": [],
   "source": [
    "from selenium import webdriver\n",
    "from selenium.webdriver.common.by import By"
   ]
  },
  {
   "cell_type": "code",
   "execution_count": 2,
   "id": "ca3d8896-c438-4ba8-b114-66ce9bcb8138",
   "metadata": {},
   "outputs": [],
   "source": [
    "driver = webdriver.Chrome()\n",
    "driver.get('https://www.naver.com')"
   ]
  },
  {
   "cell_type": "code",
   "execution_count": 3,
   "id": "93f26991-f482-414d-ba3c-504d1d0aa1e8",
   "metadata": {},
   "outputs": [],
   "source": [
    "keyword = driver.find_element(By.CSS_SELECTOR,'#query')\n",
    "keyword.clear()\n",
    "keyword.send_keys('파이썬')"
   ]
  },
  {
   "cell_type": "code",
   "execution_count": 4,
   "id": "8d9a6e32-e217-4d40-81fb-d8c04bc1a024",
   "metadata": {},
   "outputs": [],
   "source": [
    "search_btn = driver.find_element(By.CSS_SELECTOR,'#search-btn')\n",
    "search_btn.click()"
   ]
  },
  {
   "cell_type": "markdown",
   "id": "61c8a56a-8e75-4bb3-85b5-d65e5179ac26",
   "metadata": {},
   "source": [
    "- XPATH"
   ]
  },
  {
   "cell_type": "code",
   "execution_count": null,
   "id": "71130b28-6ada-445d-85b8-fbc2a7ce8aa2",
   "metadata": {},
   "outputs": [],
   "source": [
    "```\n",
    "'//' : 최상위\n",
    "'*' : 자손 태그\n",
    "'/' : 자식 태그\n",
    "''\n",
    "```"
   ]
  },
  {
   "cell_type": "code",
   "execution_count": 6,
   "id": "41fb5901-bdac-4a1d-9a49-4b21460fab56",
   "metadata": {},
   "outputs": [],
   "source": [
    "driver.find_element(By.XPATH, '//*[@id=\"query\"]').send_keys('xpath')"
   ]
  },
  {
   "cell_type": "code",
   "execution_count": 7,
   "id": "f6c2a45e-5e75-40ce-90ed-9d63d43c5be6",
   "metadata": {},
   "outputs": [],
   "source": [
    "driver.find_element(By.XPATH, '//*[@id=\"search-btn\"]').click()"
   ]
  },
  {
   "cell_type": "code",
   "execution_count": 8,
   "id": "66cad88b-a54a-4f2e-a40b-d01e11e8af4b",
   "metadata": {},
   "outputs": [],
   "source": [
    "driver.quit()"
   ]
  },
  {
   "cell_type": "code",
   "execution_count": 9,
   "id": "30c003b4-debc-4a8f-acbb-326c064186a8",
   "metadata": {},
   "outputs": [],
   "source": [
    "from selenium import webdriver\n",
    "from selenium.webdriver.common.by import By"
   ]
  },
  {
   "cell_type": "code",
   "execution_count": 10,
   "id": "2ff89268-477e-4774-b867-025828ed9061",
   "metadata": {},
   "outputs": [],
   "source": [
    "driver = webdriver.Chrome()\n",
    "driver.get('https://pinkwink.kr')"
   ]
  },
  {
   "cell_type": "code",
   "execution_count": 28,
   "id": "98d7a1bf-4ec1-41c6-a697-9616a628fda7",
   "metadata": {},
   "outputs": [],
   "source": [
    "# 1. 돋보기 버튼을 선택\n",
    "from selenium.webdriver import ActionChains\n",
    "\n",
    "search_tag = driver.find_element(By.CSS_SELECTOR, '#header > div.search')\n",
    "action = ActionChains(driver)\n",
    "action.click(search_tag).perform()"
   ]
  },
  {
   "cell_type": "code",
   "execution_count": 29,
   "id": "bcf657df-459a-4417-bfb8-196c2fa544f3",
   "metadata": {},
   "outputs": [],
   "source": [
    "# 2. 검색어를 입력\n",
    "driver.find_element(By.CSS_SELECTOR, '#header > div.search > input[type=text]').send_keys('딥러닝')"
   ]
  },
  {
   "cell_type": "code",
   "execution_count": 30,
   "id": "723171b5-4e31-4531-865a-00627a250f5e",
   "metadata": {},
   "outputs": [],
   "source": [
    "# 3. 검색 버튼 클릭\n",
    "driver.find_element(By.CSS_SELECTOR, '#header > div.search.on > button').click()"
   ]
  },
  {
   "cell_type": "markdown",
   "id": "b9d518aa-93a8-4c6d-b3d8-25868b5a3176",
   "metadata": {},
   "source": [
    "## 4. selenium + beautifulsoup"
   ]
  },
  {
   "cell_type": "code",
   "execution_count": 31,
   "id": "7749b05f-7566-48dd-85e4-8e1b0c08730a",
   "metadata": {
    "scrolled": true
   },
   "outputs": [
    {
     "data": {
      "text/plain": [
       "'<html lang=\"ko\"><head>\\n                <script src=\"https://pagead2.googlesyndication.com/pagead/managed/js/adsense/m202405130101/reactive_library_fy2021.js?bust=31083688\"></script><script src=\"https://pagead2.googlesyndication.com/pagead/managed/js/adsense/m202405130101/show_ads_impl_fy2021.js?bust=31083688\"></script><script type=\"text/javascript\">if (!window.T) { window.T = {} }\\nwindow.T.config = {\"TOP_SSL_URL\":\"https://www.tistory.com\",\"PREVIEW\":false,\"ROLE\":\"guest\",\"PREV_PAGE\":\"\",\"NEXT_PAGE\":\"\",\"BLOG\":{\"id\":371175,\"name\":\"pinkwink\",\"title\":\"PinkWink\",\"isDormancy\":false,\"nickName\":\"PinkWink\",\"status\":\"open\",\"profileStatus\":\"normal\"},\"NEED_COMMENT_LOGIN\":false,\"COMMENT_LOGIN_CONFIRM_MESSAGE\":\"\",\"LOGIN_URL\":\"https://www.tistory.com/auth/login/?redirectUrl=https://pinkwink.kr/search/%25EB%2594%25A5%25EB%259F%25AC%25EB%258B%259D\",\"DEFAULT_URL\":\"https://pinkwink.kr\",\"USER\":{\"name\":null,\"homepage\":null,\"id\":0,\"profileImage\":null},\"SUBSCRIPTION\":{\"status\":\"none\",\"isConnected\":false,\"isPending\":false,\"isWait\":false,\"isProcessing\":false,\"isNone\":true},\"IS_LOGIN\":false,\"HAS_BLOG\":false,\"IS_SUPPORT\":false,\"TOP_URL\":\"http://www.tistory.com\",\"JOIN_URL\":\"https://www.tistory.com/member/join\",\"ROLE_GROUP\":\"visitor\"};\\nwindow.T.entryInfo = null;\\nwindow.appInfo = {\"domain\":\"tistory.com\",\"topUrl\":\"https://www.tistory.com\",\"loginUrl\":\"https://www.tistory.com/auth/login\",\"logoutUrl\":\"https://www.tistory.com/auth/logout\"};\\nwindow.initData = {};\\n\\nwindow.TistoryBlog = {\\n    basePath: \"\",\\n    url: \"https://pinkwink.kr\",\\n    tistoryUrl: \"https://pinkwink.tistory.com\",\\n    manageUrl: \"https://pinkwink.tistory.com/manage\",\\n    token: \"yD8yNfNhfosa00NhDebu76iJYKoYTb8FMiqz5nsX608vVs07QGmRoj56gJRM8dq+\"\\n};\\nvar servicePath = \"\";\\nvar blogURL = \"\";</script>\\n\\n                \\n                \\n                \\n                        <!-- BusinessLicenseInfo - START -->\\n        \\n            <link href=\"https://tistory1.daumcdn.net/tistory_admin/userblog/tistory-c9fbfae426e43fbd9d07ad246065fb3a17523cb3/static/plugin/BusinessLicenseInfo/style.css\" rel=\"stylesheet\" type=\"text/css\">\\n\\n            <script>function switchFold(entryId) {\\n    var businessLayer = document.getElementById(\"businessInfoLayer_\" + entryId);\\n\\n    if (businessLayer) {\\n        if (businessLayer.className.indexOf(\"unfold_license\") > 0) {\\n            businessLayer.className = \"business_license_layer\";\\n        } else {\\n            businessLayer.className = \"business_license_layer unfold_license\";\\n        }\\n    }\\n}\\n</script>\\n\\n        \\n        <!-- BusinessLicenseInfo - END -->\\n<!-- System - START -->\\n\\n<!-- System - END -->\\n\\n        <!-- GoogleSearchConsole - START -->\\n        \\n<!-- BEGIN GOOGLE_SITE_VERIFICATION -->\\n<meta name=\"google-site-verification\" content=\"k3AvKvWkwX7aD3-ykT5zNH4ba1F3MJShutQ5laJ8S78\">\\n<!-- END GOOGLE_SITE_VERIFICATION -->\\n\\n        <!-- GoogleSearchConsole - END -->\\n\\n        <!-- TistoryProfileLayer - START -->\\n        <link href=\"https://tistory1.daumcdn.net/tistory_admin/userblog/tistory-c9fbfae426e43fbd9d07ad246065fb3a17523cb3/static/plugin/TistoryProfileLayer/style.css\" rel=\"stylesheet\" type=\"text/css\">\\n<script type=\"text/javascript\" src=\"https://tistory1.daumcdn.net/tistory_admin/userblog/tistory-c9fbfae426e43fbd9d07ad246065fb3a17523cb3/static/plugin/TistoryProfileLayer/script.js\"></script>\\n\\n        <!-- TistoryProfileLayer - END -->\\n\\n                \\n                <meta http-equiv=\"X-UA-Compatible\" content=\"IE=Edge\">\\n<meta name=\"format-detection\" content=\"telephone=no\">\\n<script src=\"//t1.daumcdn.net/tistory_admin/lib/jquery/jquery-3.5.1.min.js\" integrity=\"sha256-9/aliU8dGd2tb6OSsuzixeV4y/faTqgFtohetphbbj0=\" crossorigin=\"anonymous\"></script>\\n<script src=\"//t1.daumcdn.net/tistory_admin/lib/lightbox/js/lightbox-v2.10.0.min.js\" defer=\"\"></script>\\n<script type=\"text/javascript\" src=\"//t1.daumcdn.net/tiara/js/v1/tiara.min.js\"></script><meta name=\"referrer\" content=\"always\">\\n<meta name=\"google-adsense-platform-account\" content=\"ca-host-pub-9691043933427338\">\\n<meta name=\"google-adsense-platform-domain\" content=\"tistory.com\">\\n<meta name=\"google-adsense-account\" content=\"ca-pub-2982459700139266\">\\n<meta name=\"description\" content=\"한 변두리 공학도의 블로그입니다. 재미있어 보이는 것들을 모두 기초스럽게 접근하는 블로그이며... 그보다 더욱 소중한 우리 아가 미바뤼의 발자취를 남겨두는 블로그이기도 합니다.\">\\n\\n    <!-- BEGIN OPENGRAPH -->\\n    <meta property=\"og:type\" content=\"website\">\\n<meta property=\"og:url\" content=\"https://pinkwink.kr\">\\n<meta property=\"og:site_name\" content=\"PinkWink\">\\n<meta property=\"og:title\" content=\"\\'딥러닝\\'의 검색결과\">\\n<meta property=\"og:description\" content=\"한 변두리 공학도의 블로그입니다. 재미있어 보이는 것들을 모두 기초스럽게 접근하는 블로그이며... 그보다 더욱 소중한 우리 아가 미바뤼의 발자취를 남겨두는 블로그이기도 합니다.\">\\n<meta property=\"og:image\" content=\"https://img1.daumcdn.net/thumb/R800x0/?scode=mtistory2&amp;fname=https%3A%2F%2Ft1.daumcdn.net%2Fcfile%2Ftistory%2F207EB9594D92CCFF05\">\\n<meta property=\"og:article:author\" content=\"\\'PinkWink\\'\">\\n    <!-- END OPENGRAPH -->\\n\\n    <!-- BEGIN TWITTERCARD -->\\n    <meta name=\"twitter:card\" content=\"summary_large_image\">\\n<meta name=\"twitter:site\" content=\"@TISTORY\">\\n<meta name=\"twitter:title\" content=\"\\'딥러닝\\'의 검색결과\">\\n<meta name=\"twitter:description\" content=\"한 변두리 공학도의 블로그입니다. 재미있어 보이는 것들을 모두 기초스럽게 접근하는 블로그이며... 그보다 더욱 소중한 우리 아가 미바뤼의 발자취를 남겨두는 블로그이기도 합니다.\">\\n<meta property=\"twitter:image\" content=\"https://img1.daumcdn.net/thumb/R800x0/?scode=mtistory2&amp;fname=https%3A%2F%2Ft1.daumcdn.net%2Fcfile%2Ftistory%2F207EB9594D92CCFF05\">\\n    <!-- END TWITTERCARD -->\\n<link rel=\"stylesheet\" type=\"text/css\" href=\"https://t1.daumcdn.net/tistory_admin/lib/lightbox/css/lightbox.min.css\">\\n<link rel=\"stylesheet\" type=\"text/css\" href=\"https://tistory1.daumcdn.net/tistory_admin/userblog/tistory-c9fbfae426e43fbd9d07ad246065fb3a17523cb3/static/style/font.css\">\\n<link rel=\"stylesheet\" type=\"text/css\" href=\"https://tistory1.daumcdn.net/tistory_admin/userblog/tistory-c9fbfae426e43fbd9d07ad246065fb3a17523cb3/static/style/content.css\">\\n<script type=\"text/javascript\">(function() {\\n    var tjQuery = jQuery.noConflict(true);\\n    window.tjQuery = tjQuery;\\n    window.orgjQuery = window.jQuery; window.jQuery = tjQuery;\\n    window.jQuery = window.orgjQuery; delete window.orgjQuery;\\n})()</script>\\n<script type=\"text/javascript\" src=\"https://tistory1.daumcdn.net/tistory_admin/userblog/tistory-c9fbfae426e43fbd9d07ad246065fb3a17523cb3/static/script/base.js\"></script>\\n<script type=\"text/javascript\" src=\"//developers.kakao.com/sdk/js/kakao.min.js\"></script>\\n\\n                \\n<meta charset=\"UTF-8\">\\n<meta name=\"google-site-verification\" content=\"k3AvKvWkwX7aD3-ykT5zNH4ba1F3MJShutQ5laJ8S78\">\\n<meta name=\"viewport\" content=\"user-scalable=no, initial-scale=1.0, maximum-scale=1.0, minimum-scale=1.0, width=device-width\">\\n<title>\\'딥러닝\\'의 검색결과</title>\\n<link rel=\"stylesheet\" href=\"https://tistory1.daumcdn.net/tistory/371175/skin/style.css?_version_=1687613150\">\\n<script src=\"//t1.daumcdn.net/tistory_admin/lib/jquery/jquery-1.12.4.min.js\"></script>\\n  \\n  <script async=\"\" src=\"https://pagead2.googlesyndication.com/pagead/js/adsbygoogle.js?client=ca-pub-2982459700139266\" crossorigin=\"anonymous\" data-checked-head=\"true\"></script>\\n  \\n<!-- Google tag (gtag.js) -->\\n<script async=\"\" src=\"https://www.googletagmanager.com/gtag/js?id=G-HCXDDK2V0E\"></script>\\n<script>\\n  window.dataLayer = window.dataLayer || [];\\n  function gtag(){dataLayer.push(arguments);}\\n  gtag(\\'js\\', new Date());\\n\\n  gtag(\\'config\\', \\'G-HCXDDK2V0E\\');\\n</script>\\n\\n\\n                \\n                \\n                <style type=\"text/css\">.another_category {\\n    border: 1px solid #E5E5E5;\\n    padding: 10px 10px 5px;\\n    margin: 10px 0;\\n    clear: both;\\n}\\n\\n.another_category h4 {\\n    font-size: 12px !important;\\n    margin: 0 !important;\\n    border-bottom: 1px solid #E5E5E5 !important;\\n    padding: 2px 0 6px !important;\\n}\\n\\n.another_category h4 a {\\n    font-weight: bold !important;\\n}\\n\\n.another_category table {\\n    table-layout: fixed;\\n    border-collapse: collapse;\\n    width: 100% !important;\\n    margin-top: 10px !important;\\n}\\n\\n* html .another_category table {\\n    width: auto !important;\\n}\\n\\n*:first-child + html .another_category table {\\n    width: auto !important;\\n}\\n\\n.another_category th, .another_category td {\\n    padding: 0 0 4px !important;\\n}\\n\\n.another_category th {\\n    text-align: left;\\n    font-size: 12px !important;\\n    font-weight: normal;\\n    word-break: break-all;\\n    overflow: hidden;\\n    line-height: 1.5;\\n}\\n\\n.another_category td {\\n    text-align: right;\\n    width: 80px;\\n    font-size: 11px;\\n}\\n\\n.another_category th a {\\n    font-weight: normal;\\n    text-decoration: none;\\n    border: none !important;\\n}\\n\\n.another_category th a.current {\\n    font-weight: bold;\\n    text-decoration: none !important;\\n    border-bottom: 1px solid !important;\\n}\\n\\n.another_category th span {\\n    font-weight: normal;\\n    text-decoration: none;\\n    font: 10px Tahoma, Sans-serif;\\n    border: none !important;\\n}\\n\\n.another_category_color_gray, .another_category_color_gray h4 {\\n    border-color: #E5E5E5 !important;\\n}\\n\\n.another_category_color_gray * {\\n    color: #909090 !important;\\n}\\n\\n.another_category_color_gray th a.current {\\n    border-color: #909090 !important;\\n}\\n\\n.another_category_color_gray h4, .another_category_color_gray h4 a {\\n    color: #737373 !important;\\n}\\n\\n.another_category_color_red, .another_category_color_red h4 {\\n    border-color: #F6D4D3 !important;\\n}\\n\\n.another_category_color_red * {\\n    color: #E86869 !important;\\n}\\n\\n.another_category_color_red th a.current {\\n    border-color: #E86869 !important;\\n}\\n\\n.another_category_color_red h4, .another_category_color_red h4 a {\\n    color: #ED0908 !important;\\n}\\n\\n.another_category_color_green, .another_category_color_green h4 {\\n    border-color: #CCE7C8 !important;\\n}\\n\\n.another_category_color_green * {\\n    color: #64C05B !important;\\n}\\n\\n.another_category_color_green th a.current {\\n    border-color: #64C05B !important;\\n}\\n\\n.another_category_color_green h4, .another_category_color_green h4 a {\\n    color: #3EA731 !important;\\n}\\n\\n.another_category_color_blue, .another_category_color_blue h4 {\\n    border-color: #C8DAF2 !important;\\n}\\n\\n.another_category_color_blue * {\\n    color: #477FD6 !important;\\n}\\n\\n.another_category_color_blue th a.current {\\n    border-color: #477FD6 !important;\\n}\\n\\n.another_category_color_blue h4, .another_category_color_blue h4 a {\\n    color: #1960CA !important;\\n}\\n\\n.another_category_color_violet, .another_category_color_violet h4 {\\n    border-color: #E1CEEC !important;\\n}\\n\\n.another_category_color_violet * {\\n    color: #9D64C5 !important;\\n}\\n\\n.another_category_color_violet th a.current {\\n    border-color: #9D64C5 !important;\\n}\\n\\n.another_category_color_violet h4, .another_category_color_violet h4 a {\\n    color: #7E2CB5 !important;\\n}\\n</style>\\n\\n                \\n                <link rel=\"stylesheet\" type=\"text/css\" href=\"https://tistory1.daumcdn.net/tistory_admin/userblog/tistory-c9fbfae426e43fbd9d07ad246065fb3a17523cb3/static/style/revenue.css\">\\n<link rel=\"canonical\" href=\"https://pinkwink.kr\">\\n\\n<!-- BEGIN STRUCTURED_DATA -->\\n<script type=\"application/ld+json\">\\n    {\"@context\":\"http://schema.org\",\"@type\":\"WebSite\",\"url\":\"/\",\"potentialAction\":{\"@type\":\"SearchAction\",\"target\":\"/search/{search_term_string}\",\"query-input\":\"required name=search_term_string\"}}\\n</script>\\n<!-- END STRUCTURED_DATA -->\\n<link rel=\"stylesheet\" type=\"text/css\" href=\"https://tistory1.daumcdn.net/tistory_admin/userblog/tistory-c9fbfae426e43fbd9d07ad246065fb3a17523cb3/static/style/dialog.css\">\\n<link rel=\"stylesheet\" type=\"text/css\" href=\"//t1.daumcdn.net/tistory_admin/www/style/top/font.css\">\\n<link rel=\"stylesheet\" type=\"text/css\" href=\"https://tistory1.daumcdn.net/tistory_admin/userblog/tistory-c9fbfae426e43fbd9d07ad246065fb3a17523cb3/static/style/postBtn.css\">\\n<link rel=\"stylesheet\" type=\"text/css\" href=\"https://tistory1.daumcdn.net/tistory_admin/userblog/tistory-c9fbfae426e43fbd9d07ad246065fb3a17523cb3/static/style/comment.css\">\\n<link rel=\"stylesheet\" type=\"text/css\" href=\"https://tistory1.daumcdn.net/tistory_admin/userblog/tistory-c9fbfae426e43fbd9d07ad246065fb3a17523cb3/static/style/tistory.css\">\\n<script type=\"text/javascript\" src=\"https://tistory1.daumcdn.net/tistory_admin/userblog/tistory-c9fbfae426e43fbd9d07ad246065fb3a17523cb3/static/script/common.js\"></script>\\n<script type=\"text/javascript\" src=\"https://tistory1.daumcdn.net/tistory_admin/userblog/tistory-c9fbfae426e43fbd9d07ad246065fb3a17523cb3/static/script/comment.js\" defer=\"\"></script>\\n\\n                \\n                <meta http-equiv=\"origin-trial\" content=\"AlK2UR5SkAlj8jjdEc9p3F3xuFYlF6LYjAML3EOqw1g26eCwWPjdmecULvBH5MVPoqKYrOfPhYVL71xAXI1IBQoAAAB8eyJvcmlnaW4iOiJodHRwczovL2RvdWJsZWNsaWNrLm5ldDo0NDMiLCJmZWF0dXJlIjoiV2ViVmlld1hSZXF1ZXN0ZWRXaXRoRGVwcmVjYXRpb24iLCJleHBpcnkiOjE3NTgwNjcxOTksImlzU3ViZG9tYWluIjp0cnVlfQ==\"><meta http-equiv=\"origin-trial\" content=\"Amm8/NmvvQfhwCib6I7ZsmUxiSCfOxWxHayJwyU1r3gRIItzr7bNQid6O8ZYaE1GSQTa69WwhPC9flq/oYkRBwsAAACCeyJvcmlnaW4iOiJodHRwczovL2dvb2dsZXN5bmRpY2F0aW9uLmNvbTo0NDMiLCJmZWF0dXJlIjoiV2ViVmlld1hSZXF1ZXN0ZWRXaXRoRGVwcmVjYXRpb24iLCJleHBpcnkiOjE3NTgwNjcxOTksImlzU3ViZG9tYWluIjp0cnVlfQ==\"><meta http-equiv=\"origin-trial\" content=\"A/ERL66fN363FkXxgDc6F1+ucRUkAhjEca9W3la6xaLnD2Y1lABsqmdaJmPNaUKPKVBRpyMKEhXYl7rSvrQw+AkAAACNeyJvcmlnaW4iOiJodHRwczovL2RvdWJsZWNsaWNrLm5ldDo0NDMiLCJmZWF0dXJlIjoiRmxlZGdlQmlkZGluZ0FuZEF1Y3Rpb25TZXJ2ZXIiLCJleHBpcnkiOjE3MTkzNTk5OTksImlzU3ViZG9tYWluIjp0cnVlLCJpc1RoaXJkUGFydHkiOnRydWV9\"><meta http-equiv=\"origin-trial\" content=\"A6OdGH3fVf4eKRDbXb4thXA4InNqDJDRhZ8U533U/roYjp4Yau0T3YSuc63vmAs/8ga1cD0E3A7LEq6AXk1uXgsAAACTeyJvcmlnaW4iOiJodHRwczovL2dvb2dsZXN5bmRpY2F0aW9uLmNvbTo0NDMiLCJmZWF0dXJlIjoiRmxlZGdlQmlkZGluZ0FuZEF1Y3Rpb25TZXJ2ZXIiLCJleHBpcnkiOjE3MTkzNTk5OTksImlzU3ViZG9tYWluIjp0cnVlLCJpc1RoaXJkUGFydHkiOnRydWV9\"><meta http-equiv=\"origin-trial\" content=\"AlK2UR5SkAlj8jjdEc9p3F3xuFYlF6LYjAML3EOqw1g26eCwWPjdmecULvBH5MVPoqKYrOfPhYVL71xAXI1IBQoAAAB8eyJvcmlnaW4iOiJodHRwczovL2RvdWJsZWNsaWNrLm5ldDo0NDMiLCJmZWF0dXJlIjoiV2ViVmlld1hSZXF1ZXN0ZWRXaXRoRGVwcmVjYXRpb24iLCJleHBpcnkiOjE3NTgwNjcxOTksImlzU3ViZG9tYWluIjp0cnVlfQ==\"><meta http-equiv=\"origin-trial\" content=\"Amm8/NmvvQfhwCib6I7ZsmUxiSCfOxWxHayJwyU1r3gRIItzr7bNQid6O8ZYaE1GSQTa69WwhPC9flq/oYkRBwsAAACCeyJvcmlnaW4iOiJodHRwczovL2dvb2dsZXN5bmRpY2F0aW9uLmNvbTo0NDMiLCJmZWF0dXJlIjoiV2ViVmlld1hSZXF1ZXN0ZWRXaXRoRGVwcmVjYXRpb24iLCJleHBpcnkiOjE3NTgwNjcxOTksImlzU3ViZG9tYWluIjp0cnVlfQ==\"><meta http-equiv=\"origin-trial\" content=\"A/ERL66fN363FkXxgDc6F1+ucRUkAhjEca9W3la6xaLnD2Y1lABsqmdaJmPNaUKPKVBRpyMKEhXYl7rSvrQw+AkAAACNeyJvcmlnaW4iOiJodHRwczovL2RvdWJsZWNsaWNrLm5ldDo0NDMiLCJmZWF0dXJlIjoiRmxlZGdlQmlkZGluZ0FuZEF1Y3Rpb25TZXJ2ZXIiLCJleHBpcnkiOjE3MTkzNTk5OTksImlzU3ViZG9tYWluIjp0cnVlLCJpc1RoaXJkUGFydHkiOnRydWV9\"><meta http-equiv=\"origin-trial\" content=\"A6OdGH3fVf4eKRDbXb4thXA4InNqDJDRhZ8U533U/roYjp4Yau0T3YSuc63vmAs/8ga1cD0E3A7LEq6AXk1uXgsAAACTeyJvcmlnaW4iOiJodHRwczovL2dvb2dsZXN5bmRpY2F0aW9uLmNvbTo0NDMiLCJmZWF0dXJlIjoiRmxlZGdlQmlkZGluZ0FuZEF1Y3Rpb25TZXJ2ZXIiLCJleHBpcnkiOjE3MTkzNTk5OTksImlzU3ViZG9tYWluIjp0cnVlLCJpc1RoaXJkUGFydHkiOnRydWV9\"><meta http-equiv=\"origin-trial\" content=\"AlK2UR5SkAlj8jjdEc9p3F3xuFYlF6LYjAML3EOqw1g26eCwWPjdmecULvBH5MVPoqKYrOfPhYVL71xAXI1IBQoAAAB8eyJvcmlnaW4iOiJodHRwczovL2RvdWJsZWNsaWNrLm5ldDo0NDMiLCJmZWF0dXJlIjoiV2ViVmlld1hSZXF1ZXN0ZWRXaXRoRGVwcmVjYXRpb24iLCJleHBpcnkiOjE3NTgwNjcxOTksImlzU3ViZG9tYWluIjp0cnVlfQ==\"><meta http-equiv=\"origin-trial\" content=\"Amm8/NmvvQfhwCib6I7ZsmUxiSCfOxWxHayJwyU1r3gRIItzr7bNQid6O8ZYaE1GSQTa69WwhPC9flq/oYkRBwsAAACCeyJvcmlnaW4iOiJodHRwczovL2dvb2dsZXN5bmRpY2F0aW9uLmNvbTo0NDMiLCJmZWF0dXJlIjoiV2ViVmlld1hSZXF1ZXN0ZWRXaXRoRGVwcmVjYXRpb24iLCJleHBpcnkiOjE3NTgwNjcxOTksImlzU3ViZG9tYWluIjp0cnVlfQ==\"><meta http-equiv=\"origin-trial\" content=\"A/ERL66fN363FkXxgDc6F1+ucRUkAhjEca9W3la6xaLnD2Y1lABsqmdaJmPNaUKPKVBRpyMKEhXYl7rSvrQw+AkAAACNeyJvcmlnaW4iOiJodHRwczovL2RvdWJsZWNsaWNrLm5ldDo0NDMiLCJmZWF0dXJlIjoiRmxlZGdlQmlkZGluZ0FuZEF1Y3Rpb25TZXJ2ZXIiLCJleHBpcnkiOjE3MTkzNTk5OTksImlzU3ViZG9tYWluIjp0cnVlLCJpc1RoaXJkUGFydHkiOnRydWV9\"><meta http-equiv=\"origin-trial\" content=\"A6OdGH3fVf4eKRDbXb4thXA4InNqDJDRhZ8U533U/roYjp4Yau0T3YSuc63vmAs/8ga1cD0E3A7LEq6AXk1uXgsAAACTeyJvcmlnaW4iOiJodHRwczovL2dvb2dsZXN5bmRpY2F0aW9uLmNvbTo0NDMiLCJmZWF0dXJlIjoiRmxlZGdlQmlkZGluZ0FuZEF1Y3Rpb25TZXJ2ZXIiLCJleHBpcnkiOjE3MTkzNTk5OTksImlzU3ViZG9tYWluIjp0cnVlLCJpc1RoaXJkUGFydHkiOnRydWV9\"><meta http-equiv=\"origin-trial\" content=\"AlK2UR5SkAlj8jjdEc9p3F3xuFYlF6LYjAML3EOqw1g26eCwWPjdmecULvBH5MVPoqKYrOfPhYVL71xAXI1IBQoAAAB8eyJvcmlnaW4iOiJodHRwczovL2RvdWJsZWNsaWNrLm5ldDo0NDMiLCJmZWF0dXJlIjoiV2ViVmlld1hSZXF1ZXN0ZWRXaXRoRGVwcmVjYXRpb24iLCJleHBpcnkiOjE3NTgwNjcxOTksImlzU3ViZG9tYWluIjp0cnVlfQ==\"><meta http-equiv=\"origin-trial\" content=\"Amm8/NmvvQfhwCib6I7ZsmUxiSCfOxWxHayJwyU1r3gRIItzr7bNQid6O8ZYaE1GSQTa69WwhPC9flq/oYkRBwsAAACCeyJvcmlnaW4iOiJodHRwczovL2dvb2dsZXN5bmRpY2F0aW9uLmNvbTo0NDMiLCJmZWF0dXJlIjoiV2ViVmlld1hSZXF1ZXN0ZWRXaXRoRGVwcmVjYXRpb24iLCJleHBpcnkiOjE3NTgwNjcxOTksImlzU3ViZG9tYWluIjp0cnVlfQ==\"><meta http-equiv=\"origin-trial\" content=\"A/ERL66fN363FkXxgDc6F1+ucRUkAhjEca9W3la6xaLnD2Y1lABsqmdaJmPNaUKPKVBRpyMKEhXYl7rSvrQw+AkAAACNeyJvcmlnaW4iOiJodHRwczovL2RvdWJsZWNsaWNrLm5ldDo0NDMiLCJmZWF0dXJlIjoiRmxlZGdlQmlkZGluZ0FuZEF1Y3Rpb25TZXJ2ZXIiLCJleHBpcnkiOjE3MTkzNTk5OTksImlzU3ViZG9tYWluIjp0cnVlLCJpc1RoaXJkUGFydHkiOnRydWV9\"><meta http-equiv=\"origin-trial\" content=\"A6OdGH3fVf4eKRDbXb4thXA4InNqDJDRhZ8U533U/roYjp4Yau0T3YSuc63vmAs/8ga1cD0E3A7LEq6AXk1uXgsAAACTeyJvcmlnaW4iOiJodHRwczovL2dvb2dsZXN5bmRpY2F0aW9uLmNvbTo0NDMiLCJmZWF0dXJlIjoiRmxlZGdlQmlkZGluZ0FuZEF1Y3Rpb25TZXJ2ZXIiLCJleHBpcnkiOjE3MTkzNTk5OTksImlzU3ViZG9tYWluIjp0cnVlLCJpc1RoaXJkUGFydHkiOnRydWV9\"><style>@font-face{font-family:swiper-icons;src:url(\"data:application/font-woff;charset=utf-8;base64, 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\");font-weight:400;font-style:normal}:root{--swiper-theme-color:#007aff}.swiper{margin-left:auto;margin-right:auto;position:relative;overflow:hidden;list-style:none;padding:0;z-index:1}.swiper-vertical>.swiper-wrapper{flex-direction:column}.swiper-wrapper{position:relative;width:100%;height:100%;z-index:1;display:flex;transition-property:transform;box-sizing:content-box}.swiper-android .swiper-slide,.swiper-wrapper{transform:translate3d(0px, 0, 0)}.swiper-pointer-events{touch-action:pan-y}.swiper-pointer-events.swiper-vertical{touch-action:pan-x}.swiper-slide{flex-shrink:0;width:100%;height:100%;position:relative;transition-property:transform}.swiper-slide-invisible-blank{visibility:hidden}.swiper-autoheight,.swiper-autoheight .swiper-slide{height:auto}.swiper-autoheight .swiper-wrapper{align-items:flex-start;transition-property:transform,height}.swiper-backface-hidden .swiper-slide{transform:translateZ(0);-webkit-backface-visibility:hidden;backface-visibility:hidden}.swiper-3d,.swiper-3d.swiper-css-mode .swiper-wrapper{perspective:1200px}.swiper-3d .swiper-cube-shadow,.swiper-3d .swiper-slide,.swiper-3d .swiper-slide-shadow,.swiper-3d .swiper-slide-shadow-bottom,.swiper-3d .swiper-slide-shadow-left,.swiper-3d .swiper-slide-shadow-right,.swiper-3d .swiper-slide-shadow-top,.swiper-3d .swiper-wrapper{transform-style:preserve-3d}.swiper-3d .swiper-slide-shadow,.swiper-3d .swiper-slide-shadow-bottom,.swiper-3d .swiper-slide-shadow-left,.swiper-3d .swiper-slide-shadow-right,.swiper-3d .swiper-slide-shadow-top{position:absolute;left:0;top:0;width:100%;height:100%;pointer-events:none;z-index:10}.swiper-3d .swiper-slide-shadow{background:rgba(0,0,0,.15)}.swiper-3d .swiper-slide-shadow-left{background-image:linear-gradient(to left, rgba(0, 0, 0, 0.5), rgba(0, 0, 0, 0))}.swiper-3d .swiper-slide-shadow-right{background-image:linear-gradient(to right, rgba(0, 0, 0, 0.5), rgba(0, 0, 0, 0))}.swiper-3d .swiper-slide-shadow-top{background-image:linear-gradient(to top, rgba(0, 0, 0, 0.5), rgba(0, 0, 0, 0))}.swiper-3d .swiper-slide-shadow-bottom{background-image:linear-gradient(to bottom, rgba(0, 0, 0, 0.5), rgba(0, 0, 0, 0))}.swiper-css-mode>.swiper-wrapper{overflow:auto;scrollbar-width:none;-ms-overflow-style:none}.swiper-css-mode>.swiper-wrapper::-webkit-scrollbar{display:none}.swiper-css-mode>.swiper-wrapper>.swiper-slide{scroll-snap-align:start start}.swiper-horizontal.swiper-css-mode>.swiper-wrapper{scroll-snap-type:x mandatory}.swiper-vertical.swiper-css-mode>.swiper-wrapper{scroll-snap-type:y mandatory}.swiper-centered>.swiper-wrapper::before{content:\"\";flex-shrink:0;order:9999}.swiper-centered.swiper-horizontal>.swiper-wrapper>.swiper-slide:first-child{margin-inline-start:var(--swiper-centered-offset-before)}.swiper-centered.swiper-horizontal>.swiper-wrapper::before{height:100%;min-height:1px;width:var(--swiper-centered-offset-after)}.swiper-centered.swiper-vertical>.swiper-wrapper>.swiper-slide:first-child{margin-block-start:var(--swiper-centered-offset-before)}.swiper-centered.swiper-vertical>.swiper-wrapper::before{width:100%;min-width:1px;height:var(--swiper-centered-offset-after)}.swiper-centered>.swiper-wrapper>.swiper-slide{scroll-snap-align:center center;scroll-snap-stop:always}</style><script async=\"\" src=\"https://fundingchoicesmessages.google.com/i/ca-pub-2982459700139266?href=https%3A%2F%2Fpinkwink.kr%2Fsearch%2F%25EB%2594%25A5%25EB%259F%25AC%25EB%258B%259D&amp;ers=2\"></script><script async=\"\" src=\"https://fundingchoicesmessages.google.com/f/AGSKWxWmDPk7bLNQeRJfwuwD6SgkJZauRuWB_R3v9z1fC7KzHUbYPL7I35xC0oNP_tzM3ZJrNZqZbnmUp47NDDH7KlWcrvrbNu08jPiVOi6EzeaEp5rjRnM43xGQYOx_zMasWo_P8w_gzg==?fccs=W1siQUtzUm9sOTh1YUR2VTVCWWliWkpHWFV2WFlzS1lBckNiN25WN0k5ZlpWczJJWHBOcm91ekplOW9VZkFYNXpsRUd1MXNPN09wUnF4eVhTNG9HY3pTc2JsMUFQM1ZOT29TNWNrUnRpSEduTjVFbkNrZERWZnI5MVVtdXFabk1TT3RVYWZnWEgzQ2dSWXpGNDBTd240TUplaFNEVWlPTGk1am13PT0iXSxudWxsLG51bGwsbnVsbCxudWxsLG51bGwsWzE3MTU5Mjg3MjAsNzUzMDAwMDAwXSxudWxsLG51bGwsbnVsbCxbbnVsbCxbN11dLCJodHRwczovL3Bpbmt3aW5rLmtyL3NlYXJjaC8lRUIlOTQlQTUlRUIlOUYlQUMlRUIlOEIlOUQiLG51bGwsW1s4LCJQbkRYZFpiajdwNCJdLFs5LCJrbyJdLFsxOCwiW1tbMF1dXSJdLFsxOSwiMiJdLFsxNywiWzBdIl1dXQ\"></script><script async=\"\" src=\"https://fundingchoicesmessages.google.com/f/AGSKWxW-vXqk20AAodL12WnIk9VPkJRjX7JztoNawkOMmyT4KewXmtCLm8Fbpf1SLIrREETsOBYLKfO_VF8Ygddk3BCynxODGg_A8uwOqfu2axGOpvzgAsD1q6wHnght7sgyTFzipk1qPQ==?fccs=W1siQUtzUm9sOTh1YUR2VTVCWWliWkpHWFV2WFlzS1lBckNiN25WN0k5ZlpWczJJWHBOcm91ekplOW9VZkFYNXpsRUd1MXNPN09wUnF4eVhTNG9HY3pTc2JsMUFQM1ZOT29TNWNrUnRpSEduTjVFbkNrZERWZnI5MVVtdXFabk1TT3RVYWZnWEgzQ2dSWXpGNDBTd240TUplaFNEVWlPTGk1am13PT0iXSxudWxsLG51bGwsbnVsbCxudWxsLG51bGwsWzE3MTU5Mjg3MjAsODY4MDAwMDAwXSxudWxsLG51bGwsbnVsbCxbbnVsbCxbNyw5XSxudWxsLDIsbnVsbCwiZW4iXSwiaHR0cHM6Ly9waW5rd2luay5rci9zZWFyY2gvJUVCJTk0JUE1JUVCJTlGJUFDJUVCJThCJTlEIixudWxsLFtbOCwiUG5EWGRaYmo3cDQiXSxbOSwia28iXSxbMTgsIltbWzBdXV0iXSxbMTksIjIiXSxbMTcsIlswXSJdXV0\"></script><meta http-equiv=\"origin-trial\" content=\"AlK2UR5SkAlj8jjdEc9p3F3xuFYlF6LYjAML3EOqw1g26eCwWPjdmecULvBH5MVPoqKYrOfPhYVL71xAXI1IBQoAAAB8eyJvcmlnaW4iOiJodHRwczovL2RvdWJsZWNsaWNrLm5ldDo0NDMiLCJmZWF0dXJlIjoiV2ViVmlld1hSZXF1ZXN0ZWRXaXRoRGVwcmVjYXRpb24iLCJleHBpcnkiOjE3NTgwNjcxOTksImlzU3ViZG9tYWluIjp0cnVlfQ==\"><meta http-equiv=\"origin-trial\" content=\"Amm8/NmvvQfhwCib6I7ZsmUxiSCfOxWxHayJwyU1r3gRIItzr7bNQid6O8ZYaE1GSQTa69WwhPC9flq/oYkRBwsAAACCeyJvcmlnaW4iOiJodHRwczovL2dvb2dsZXN5bmRpY2F0aW9uLmNvbTo0NDMiLCJmZWF0dXJlIjoiV2ViVmlld1hSZXF1ZXN0ZWRXaXRoRGVwcmVjYXRpb24iLCJleHBpcnkiOjE3NTgwNjcxOTksImlzU3ViZG9tYWluIjp0cnVlfQ==\"><meta http-equiv=\"origin-trial\" content=\"A/ERL66fN363FkXxgDc6F1+ucRUkAhjEca9W3la6xaLnD2Y1lABsqmdaJmPNaUKPKVBRpyMKEhXYl7rSvrQw+AkAAACNeyJvcmlnaW4iOiJodHRwczovL2RvdWJsZWNsaWNrLm5ldDo0NDMiLCJmZWF0dXJlIjoiRmxlZGdlQmlkZGluZ0FuZEF1Y3Rpb25TZXJ2ZXIiLCJleHBpcnkiOjE3MTkzNTk5OTksImlzU3ViZG9tYWluIjp0cnVlLCJpc1RoaXJkUGFydHkiOnRydWV9\"><meta http-equiv=\"origin-trial\" content=\"A6OdGH3fVf4eKRDbXb4thXA4InNqDJDRhZ8U533U/roYjp4Yau0T3YSuc63vmAs/8ga1cD0E3A7LEq6AXk1uXgsAAACTeyJvcmlnaW4iOiJodHRwczovL2dvb2dsZXN5bmRpY2F0aW9uLmNvbTo0NDMiLCJmZWF0dXJlIjoiRmxlZGdlQmlkZGluZ0FuZEF1Y3Rpb25TZXJ2ZXIiLCJleHBpcnkiOjE3MTkzNTk5OTksImlzU3ViZG9tYWluIjp0cnVlLCJpc1RoaXJkUGFydHkiOnRydWV9\"><script async=\"\" src=\"https://fundingchoicesmessages.google.com/f/AGSKWxVKy28TItta9LpCOWs8uUH5MAWcbKojPQlTbnvBBOXIA8hHiGhZlwdp1EE8LyZFbqoJStdTFvQydo0opMKJZYGnWKKs64Cd_Oy0hnCFzvNd3GorxQoGbCj6lXOjG-btNNVWxJdK-Q==?fccs=W1siQUtzUm9sOTh1YUR2VTVCWWliWkpHWFV2WFlzS1lBckNiN25WN0k5ZlpWczJJWHBOcm91ekplOW9VZkFYNXpsRUd1MXNPN09wUnF4eVhTNG9HY3pTc2JsMUFQM1ZOT29TNWNrUnRpSEduTjVFbkNrZERWZnI5MVVtdXFabk1TT3RVYWZnWEgzQ2dSWXpGNDBTd240TUplaFNEVWlPTGk1am13PT0iXSxudWxsLG51bGwsbnVsbCxudWxsLG51bGwsWzE3MTU5Mjg3MjEsODMzMDAwMDAwXSxudWxsLG51bGwsbnVsbCxbbnVsbCxbNyw5LDZdLG51bGwsMixudWxsLCJlbiIsbnVsbCxudWxsLG51bGwsbnVsbCxudWxsLDFdLCJodHRwczovL3Bpbmt3aW5rLmtyL3NlYXJjaC8lRUIlOTQlQTUlRUIlOUYlQUMlRUIlOEIlOUQiLG51bGwsW1s4LCJQbkRYZFpiajdwNCJdLFs5LCJrbyJdLFsxOCwiW1tbMF1dXSJdLFsxOSwiMiJdLFsxNywiWzBdIl1dXQ\"></script></head>\\n                                                <body id=\"tt-body-search\" class=\"color-gray post-type-text paging-view-more\" aria-hidden=\"false\">\\n                \\n                \\n                \\n\\n<ins class=\"adsbygoogle adsbygoogle-noablate\" data-adsbygoogle-status=\"done\" style=\"display: none !important;\" data-ad-status=\"unfilled\"><div id=\"aswift_0_host\" style=\"border: none; height: 0px; width: 0px; margin: 0px; padding: 0px; position: relative; visibility: visible; background-color: transparent; display: inline-block;\"><iframe id=\"aswift_0\" name=\"aswift_0\" style=\"left:0;position:absolute;top:0;border:0;width:undefinedpx;height:undefinedpx;\" sandbox=\"allow-forms allow-popups allow-popups-to-escape-sandbox allow-same-origin allow-scripts allow-top-navigation-by-user-activation\" frameborder=\"0\" marginwidth=\"0\" marginheight=\"0\" vspace=\"0\" hspace=\"0\" allowtransparency=\"true\" scrolling=\"no\" allow=\"attribution-reporting\" src=\"https://googleads.g.doubleclick.net/pagead/ads?client=ca-pub-2982459700139266&amp;output=html&amp;adk=3397874647&amp;adf=2703517995&amp;abgtt=6&amp;lmt=1715928720&amp;plat=1%3A8%2C2%3A8%2C3%3A2162688%2C4%3A2162688%2C9%3A134250504%2C16%3A8388608%2C17%3A32%2C24%3A32%2C25%3A32%2C30%3A34603008%2C32%3A32%2C41%3A32%2C42%3A32&amp;format=0x0&amp;url=https%3A%2F%2Fpinkwink.kr%2Fsearch%2F%25EB%2594%25A5%25EB%259F%25AC%25EB%258B%259D&amp;host=ca-host-pub-9691043933427338&amp;pra=5&amp;wgl=1&amp;easpi=0&amp;aihb=0&amp;asro=0&amp;itsi=17&amp;uach=WyJXaW5kb3dzIiwiMTUuMC4wIiwieDg2IiwiIiwiMTI1LjAuNjQyMi42MSIsbnVsbCwwLG51bGwsIjY0IixbWyJHb29nbGUgQ2hyb21lIiwiMTI1LjAuNjQyMi42MSJdLFsiQ2hyb21pdW0iLCIxMjUuMC42NDIyLjYxIl0sWyJOb3QuQS9CcmFuZCIsIjI0LjAuMC4wIl1dLDBd&amp;dt=1715928719649&amp;bpp=8&amp;bdt=259&amp;idt=389&amp;shv=r20240515&amp;mjsv=m202405130101&amp;ptt=9&amp;saldr=aa&amp;abxe=1&amp;cookie=ID%3D4e651fa853f61bec%3AT%3D1715927634%3ART%3D1715928396%3AS%3DALNI_MbaVSiSJX4X1COGez84GbqnXikysA&amp;gpic=UID%3D00000e206471bdf6%3AT%3D1715927634%3ART%3D1715928396%3AS%3DALNI_MZnonM6Vyc_vwxubn1eaNusFPnIdQ&amp;eo_id_str=ID%3D28637fb0bffdcc3e%3AT%3D1715927634%3ART%3D1715928396%3AS%3DAA-AfjaIXw_sTMqcQTkAtt1dseNe&amp;nras=1&amp;correlator=729607105026&amp;frm=20&amp;pv=2&amp;ga_vid=182270989.1715927634&amp;ga_sid=1715928720&amp;ga_hid=1596877164&amp;ga_fc=1&amp;u_tz=540&amp;u_his=3&amp;u_h=720&amp;u_w=1280&amp;u_ah=672&amp;u_aw=1280&amp;u_cd=24&amp;u_sd=1.5&amp;dmc=8&amp;adx=-12245933&amp;ady=-12245933&amp;biw=827&amp;bih=533&amp;scr_x=0&amp;scr_y=0&amp;eid=44759876%2C44759927%2C44759842%2C31083360%2C31083636%2C95331688%2C95331982%2C31083688%2C95331711%2C95331954%2C95332416%2C31078668&amp;oid=2&amp;pvsid=2491544402075110&amp;tmod=695102093&amp;uas=0&amp;nvt=1&amp;fsapi=1&amp;ref=https%3A%2F%2Fpinkwink.kr%2F&amp;fc=1920&amp;brdim=0%2C0%2C0%2C0%2C1280%2C0%2C1280%2C672%2C843%2C533&amp;vis=1&amp;rsz=%7C%7Cs%7C&amp;abl=NS&amp;fu=32768&amp;bc=31&amp;bz=1.52&amp;psd=W251bGwsbnVsbCxudWxsLDNd&amp;nt=1&amp;ifi=1&amp;uci=a!1&amp;fsb=1&amp;dtd=404\" data-google-container-id=\"a!1\" tabindex=\"0\" title=\"Advertisement\" aria-label=\"Advertisement\" data-load-complete=\"true\"></iframe></div></ins><div id=\"acc-nav\">\\n  <a href=\"#content\">본문 바로가기</a>\\n</div>\\n<div id=\"wrap\">\\n  <header id=\"header\">\\n    <h1><a href=\"https://pinkwink.kr/\">PinkWink</a></h1>\\n    <button type=\"button\" class=\"mobile-menu\"><span>메뉴</span></button>\\n    <div class=\"menu\">\\n      <nav id=\"gnb\">\\n        <ul class=\"tt_category\"><li class=\"\"><a href=\"/category\" class=\"link_tit\"> Posts by PinkWink <span class=\"c_cnt\">(1340)</span> </a>\\n  <ul class=\"category_list\"><li class=\"\"><a href=\"/category/Education\" class=\"link_item\"> Education <span class=\"c_cnt\">(50)</span> </a></li>\\n<li class=\"\"><a href=\"/category/Robot\" class=\"link_item\"> Robot <span class=\"c_cnt\">(171)</span> </a>\\n  <ul class=\"sub_category_list\"><li class=\"\"><a href=\"/category/Robot/Project\" class=\"link_sub_item\"> Project <span class=\"c_cnt\">(45)</span> </a></li>\\n<li class=\"\"><a href=\"/category/Robot/Robot%20Program%20-%20ROS\" class=\"link_sub_item\"> Robot Program - ROS <span class=\"c_cnt\">(73)</span> </a></li>\\n<li class=\"\"><a href=\"/category/Robot/Robot%20Module\" class=\"link_sub_item\"> Robot Module <span class=\"c_cnt\">(17)</span> </a></li>\\n<li class=\"\"><a href=\"/category/Robot/Block%20Coding\" class=\"link_sub_item\"> Block Coding <span class=\"c_cnt\">(13)</span> </a></li>\\n<li class=\"\"><a href=\"/category/Robot/Reference\" class=\"link_sub_item\"> Reference <span class=\"c_cnt\">(23)</span> </a></li>\\n</ul>\\n</li>\\n<li class=\"\"><a href=\"/category/Theory\" class=\"link_item\"> Theory <span class=\"c_cnt\">(228)</span> </a>\\n  <ul class=\"sub_category_list\"><li class=\"\"><a href=\"/category/Theory/ControlTheory\" class=\"link_sub_item\"> ControlTheory <span class=\"c_cnt\">(53)</span> </a></li>\\n<li class=\"\"><a href=\"/category/Theory/DataScience\" class=\"link_sub_item\"> DataScience <span class=\"c_cnt\">(52)</span> </a></li>\\n<li class=\"\"><a href=\"/category/Theory/MachineLearning\" class=\"link_sub_item\"> MachineLearning <span class=\"c_cnt\">(7)</span> </a></li>\\n<li class=\"\"><a href=\"/category/Theory/DeepLearning\" class=\"link_sub_item\"> DeepLearning <span class=\"c_cnt\">(19)</span> </a></li>\\n<li class=\"\"><a href=\"/category/Theory/Project\" class=\"link_sub_item\"> Project <span class=\"c_cnt\">(5)</span> </a></li>\\n<li class=\"\"><a href=\"/category/Theory/Lecture\" class=\"link_sub_item\"> Lecture <span class=\"c_cnt\">(77)</span> </a></li>\\n<li class=\"\"><a href=\"/category/Theory/Review\" class=\"link_sub_item\"> Review <span class=\"c_cnt\">(15)</span> </a></li>\\n</ul>\\n</li>\\n<li class=\"\"><a href=\"/category/Software\" class=\"link_item\"> Software <span class=\"c_cnt\">(304)</span> </a>\\n  <ul class=\"sub_category_list\"><li class=\"\"><a href=\"/category/Software/MATLAB\" class=\"link_sub_item\"> MATLAB <span class=\"c_cnt\">(65)</span> </a></li>\\n<li class=\"\"><a href=\"/category/Software/Python\" class=\"link_sub_item\"> Python <span class=\"c_cnt\">(78)</span> </a></li>\\n<li class=\"\"><a href=\"/category/Software/Processing\" class=\"link_sub_item\"> Processing <span class=\"c_cnt\">(11)</span> </a></li>\\n<li class=\"\"><a href=\"/category/Software/Ubuntu%20and%20Mint\" class=\"link_sub_item\"> Ubuntu and Mint <span class=\"c_cnt\">(42)</span> </a></li>\\n<li class=\"\"><a href=\"/category/Software/Mac%20OS\" class=\"link_sub_item\"> Mac OS <span class=\"c_cnt\">(25)</span> </a></li>\\n<li class=\"\"><a href=\"/category/Software/Useful%20SW\" class=\"link_sub_item\"> Useful SW <span class=\"c_cnt\">(60)</span> </a></li>\\n<li class=\"\"><a href=\"/category/Software/Useful%20Site\" class=\"link_sub_item\"> Useful Site <span class=\"c_cnt\">(23)</span> </a></li>\\n</ul>\\n</li>\\n<li class=\"\"><a href=\"/category/Hardware\" class=\"link_item\"> Hardware <span class=\"c_cnt\">(101)</span> </a>\\n  <ul class=\"sub_category_list\"><li class=\"\"><a href=\"/category/Hardware/SBC%20%28rasp%2C%20jetson%2C%20latte%20panda%29\" class=\"link_sub_item\"> SBC (rasp, jetson, latte pa.. <span class=\"c_cnt\">(20)</span> </a></li>\\n<li class=\"\"><a href=\"/category/Hardware/Arduino%20and%20Friends\" class=\"link_sub_item\"> Arduino and Friends <span class=\"c_cnt\">(30)</span> </a></li>\\n<li class=\"\"><a href=\"/category/Hardware/MCU\" class=\"link_sub_item\"> MCU <span class=\"c_cnt\">(16)</span> </a></li>\\n<li class=\"\"><a href=\"/category/Hardware/Review\" class=\"link_sub_item\"> Review <span class=\"c_cnt\">(35)</span> </a></li>\\n</ul>\\n</li>\\n<li class=\"\"><a href=\"/category/%EB%AC%B8%ED%99%94%EC%83%9D%ED%99%9C\" class=\"link_item\"> 문화생활 <span class=\"c_cnt\">(140)</span> </a>\\n  <ul class=\"sub_category_list\"><li class=\"\"><a href=\"/category/%EB%AC%B8%ED%99%94%EC%83%9D%ED%99%9C/%EA%B0%90%EC%83%81%ED%95%98%EA%B8%B0\" class=\"link_sub_item\"> 감상하기 <span class=\"c_cnt\">(28)</span> </a></li>\\n<li class=\"\"><a href=\"/category/%EB%AC%B8%ED%99%94%EC%83%9D%ED%99%9C/%EA%B0%80%EB%B3%BC%EA%B1%B0%EB%A6%AC.%EC%84%B8%EA%B3%84\" class=\"link_sub_item\"> 가볼거리.세계 <span class=\"c_cnt\">(84)</span> </a></li>\\n<li class=\"\"><a href=\"/category/%EB%AC%B8%ED%99%94%EC%83%9D%ED%99%9C/%EC%97%AD%EC%82%AC%EC%9D%B4%EC%95%BC%EA%B8%B0\" class=\"link_sub_item\"> 역사이야기 <span class=\"c_cnt\">(28)</span> </a></li>\\n</ul>\\n</li>\\n<li class=\"\"><a href=\"/category/%EC%9D%BC%EC%83%81%EC%83%9D%ED%99%9C\" class=\"link_item\"> 일상생활 <span class=\"c_cnt\">(346)</span> </a>\\n  <ul class=\"sub_category_list\"><li class=\"\"><a href=\"/category/%EC%9D%BC%EC%83%81%EC%83%9D%ED%99%9C/%EC%95%84%EA%B0%80%20%EB%AF%B8%EB%B0%94%EB%A4%BC\" class=\"link_sub_item\"> 아가 미바뤼 <span class=\"c_cnt\">(66)</span> </a></li>\\n<li class=\"\"><a href=\"/category/%EC%9D%BC%EC%83%81%EC%83%9D%ED%99%9C/%EB%81%84%EC%A0%81%EA%B1%B0%EB%A6%BC\" class=\"link_sub_item\"> 끄적거림 <span class=\"c_cnt\">(125)</span> </a></li>\\n<li class=\"\"><a href=\"/category/%EC%9D%BC%EC%83%81%EC%83%9D%ED%99%9C/%EB%A8%B9%EC%9D%84%EA%B1%B0%EB%A6%AC\" class=\"link_sub_item\"> 먹을거리 <span class=\"c_cnt\">(50)</span> </a></li>\\n<li class=\"\"><a href=\"/category/%EC%9D%BC%EC%83%81%EC%83%9D%ED%99%9C/%EA%B0%80%EB%B3%BC%EA%B1%B0%EB%A6%AC.%ED%95%9C%EA%B5%AD\" class=\"link_sub_item\"> 가볼거리.한국 <span class=\"c_cnt\">(91)</span> </a></li>\\n<li class=\"\"><a href=\"/category/%EC%9D%BC%EC%83%81%EC%83%9D%ED%99%9C/%ED%88%AC%EB%8D%9C%EA%B1%B0%EB%A6%BC\" class=\"link_sub_item\"> 투덜거림 <span class=\"c_cnt\">(14)</span> </a></li>\\n</ul>\\n</li>\\n</ul>\\n</li>\\n</ul>\\n\\n      </nav>\\n      <div class=\"social-link\">\\n        \\n        \\n        \\n        \\n      </div>\\n      <p>POWERED BY TISTORY</p>\\n    </div>\\n    <div class=\"search\">\\n      \\n          <input type=\"text\" name=\"search\" value=\"딥러닝\" placeholder=\"검색내용을 입력하세요.\" onkeypress=\"if (event.keyCode == 13) { try {\\n    window.location.href = \\'/search\\' + \\'/\\' + looseURIEncode(document.getElementsByName(\\'search\\')[0].value);\\n    document.getElementsByName(\\'search\\')[0].value = \\'\\';\\n    return false;\\n} catch (e) {} }\">\\n          <button type=\"submit\" onclick=\"try {\\n    window.location.href = \\'/search\\' + \\'/\\' + looseURIEncode(document.getElementsByName(\\'search\\')[0].value);\\n    document.getElementsByName(\\'search\\')[0].value = \\'\\';\\n    return false;\\n} catch (e) {}\">검색</button>\\n        \\n    </div>\\n  </header>\\n  <hr>\\n  <section class=\"container\">\\n    \\n    <article id=\"content\">\\n      \\n\\n      \\n\\n      \\n\\n      \\n        <div class=\"post-header\">\\n          <span><h1>딥러닝</h1></span>\\n          <span style=\"padding-left: 5px; font-weight: bold;\">(77)\\n          <div class=\"list-type\">\\n            <button type=\"button\" class=\"thum\">썸네일형</button>\\n            <button type=\"button\" class=\"list current\">리스트형</button>\\n          </div>\\n        </span></div>\\n      \\n\\n      <div class=\"inner\">\\n        \\n\\n                \\n            \\n  \\n    <div class=\"post-item\">\\n      <a href=\"/1467\">\\n        <span class=\"thum\">\\n          \\n            <img src=\"//i1.daumcdn.net/thumb/C264x200/?fname=https://blog.kakaocdn.net/dn/TwCgp/btsGGecgZpL/DywL2HgCuULGpzfxzdHIUK/img.png\" alt=\"\">\\n          \\n        </span>\\n        <span class=\"title\">핑크랩이 잘 하고, 하고 싶은 일</span>\\n        <span class=\"date\">2024. 4. 17. 09:18</span>\\n        <span class=\"excerpt\">핑크랩이라는 법인이 만들어진게 2022년 5월 23일입니다. 정말 아무 생각없이 일만하면서 만 2년을 약 한 달 앞두고 있습니다. 한 2년쯤 해보니 이제 핑크랩이 하고 싶은 일들이 조금은 정리가 되는 것 같습니다. 대표이사인 저 또한 너무 제가 하고 싶은 일 위주로 너무 바쁘게 움직이고 있으니.ㅠㅠ. 이제 우리 핑크랩이 하고 싶은 일을 조금 정리해 둘 필요가 있다고 느꼈습니다. 기술 개발 저희는 로봇과 딥러닝이라는 키워드가 들어간 분야에서 비록 작은 규모의 회사이지만, 그런 규모에 비해 많은 활동을 했습니다. 그 중 최근 개발한 재미있는 것들을 짧게 보여드리겠습니다. 관제 시스템 OpenRMF OpenRMF라는 관제 시스템을 이용해서 실제로 로봇 관제를 기술개발한 후 납품을 완료한 것이 최근의 일인데, ..</span>\\n      </a>\\n    </div>\\n  \\n  \\n\\n            \\n        \\n            \\n  \\n    <div class=\"post-item\">\\n      <a href=\"/1466\">\\n        <span class=\"thum\">\\n          \\n            <img src=\"//i1.daumcdn.net/thumb/C264x200/?fname=https://blog.kakaocdn.net/dn/HPXNR/btsGBa9iwuA/PdOSspidjryAgddsnj0EkK/img.png\" alt=\"\">\\n          \\n        </span>\\n        <span class=\"title\">실시간 수어 통역 화상 통신 시스템 개발</span>\\n        <span class=\"date\">2024. 4. 15. 08:00</span>\\n        <span class=\"excerpt\">제가 참여하거나 수행하는 여러 수업중에 AI 자율주행 과정이라는 국비과정이 있습니다. [저희 수업에 대한 소개는 글 하단에~] 그 과정은 총 4번의 팀프로젝트를 수행하도록 되어 있는데. 그 중 3번째 프로젝트인 딥러닝 프로젝트에 대한 발표 영상 하나를 소개해 드릴려고 합니다. 저는 이렇게 우리 수강생들의 결과를 하나씩 소개하는 일이 너무나 즐겁습니다.^^. 배경 대한민국을 위키백과에서 검색해서 보면 특이한 사항이 하나 보입니다. 일단 면적, 10만 제곱킬로미터로 다른나라랑 면적 비교할때 편합니다. 응? 100만 제곱이 있으면 우리나라의 10배입니다하면 되니까요. 그건 중요한게 아니고, 바로 공용어 입니다. 우리나라의 공용어는 한국어라고 당연히 생각하시겠지만, 한국어와 함께 수어가 공용어로 되어 있습니다...</span>\\n      </a>\\n    </div>\\n  \\n  \\n\\n            \\n        \\n            \\n  \\n    <div class=\"post-item\">\\n      <a href=\"/1465\">\\n        <span class=\"thum\">\\n          \\n            <img src=\"//i1.daumcdn.net/thumb/C264x200/?fname=https://blog.kakaocdn.net/dn/tjKDQ/btsGCdxaPIi/jIvVFy0ZdPMPc9oNV81441/img.png\" alt=\"\">\\n          \\n        </span>\\n        <span class=\"title\">AI 자율주행과정 수강생들의 발표 - 딥러닝을 이용한 자율주행 로봇</span>\\n        <span class=\"date\">2024. 4. 14. 08:00</span>\\n        <span class=\"excerpt\">제가 참여하거나 수행하는 여러 수업중에 AI 자율주행 과정이라는 국비과정이 있습니다. [저희 수업에 대한 소개는 글 하단에~] 그 과정은 총 4번의 팀프로젝트를 수행하도록 되어 있는데. 그 중 3번째 프로젝트인 딥러닝 프로젝트에 대한 발표 영상 하나를 소개해 드릴려고 합니다. 흠. 프로젝트를 수행하는 기간 동안 제가 자주 지켜보느라 돌아다녔는데요. 그 때 마다 저 이름이 보였는데, 핑크라~라고 읽더군요. 뒤에 왜 저렇게 이름을 지었는지 알 수 있습니다.ㅠㅠ. 저 라즈베리파이5는 제가 어느 날 수업때 하루 종일 고민하는 어떤 주제를 던지고 그 결과를 받았는데 재미있었던 내용으로 제출한 친구에게 상으로 준 것인데, 잘 활용하고 있네요. 아무튼, ROS를 [아직 다 배우지 않았기 때문이기도 하지만] 사용하지 ..</span>\\n      </a>\\n    </div>\\n  \\n  \\n\\n            \\n        \\n            \\n  \\n    <div class=\"post-item\">\\n      <a href=\"/1464\">\\n        <span class=\"thum\">\\n          \\n            <img src=\"//i1.daumcdn.net/thumb/C264x200/?fname=https://blog.kakaocdn.net/dn/EggAh/btsGe6T5Wnh/MHNbwBxsx95VmuY13JDWo0/img.png\" alt=\"\">\\n          \\n        </span>\\n        <span class=\"title\">PinkLAB 핑크랩이 기업부설연구소 인증을 받았습니다.</span>\\n        <span class=\"date\">2024. 4. 3. 08:00</span>\\n        <span class=\"excerpt\">사실 핑크랩은 원래 1인 기업이었습니다.ㅠㅠ. 그게 일이 생기고, 그 일이 커지고, 뭐 그러면서 벌써 정규직만 5명, 비정규직으로 월급을 받는 경우는 4~6명 사이가 왔다갔다 합니다. 규모는 작은데, 뭔가 계속 일들이 생기는.... 그래서 이러저런 고민을 하다가 핑크랩이 드뎌 기업부설연구소 인증을 받게 되었습니다. 참. 신기하고 또 뿌듯하면서, 또 앞으로 걱정거리도 많아지기 시작했습니다ㅠㅠ. 그래서 기념비적으로 잠시 핑크랩을 이 시점. 한 번 소개해보고 싶었습니다. PinkLAB 우리는 22년 5월 23일에 만들어졌습니다. 그 후 교육컨텐츠와 각종 행사들, 그리고, AI 로봇 관련 기술개발들을 했습니다. 특히 최근에는 관제시스템에 대한 많은 성과를 가지게 되었습니다. 자율주행이나, 관제시스템, 로봇팔, ..</span>\\n      </a>\\n    </div>\\n  \\n  \\n\\n            \\n        \\n            \\n  \\n    <div class=\"post-item\">\\n      <a href=\"/1463\">\\n        <span class=\"thum\">\\n          \\n            <img src=\"//i1.daumcdn.net/thumb/C264x200/?fname=https://blog.kakaocdn.net/dn/UF5Qc/btsGc4vpSgq/Ro3BHmSkK2mW3kKTBTDAKK/img.png\" alt=\"\">\\n          \\n        </span>\\n        <span class=\"title\">2024 자율주행 SW 교육 및 경진대회[전북지역혁신플랫폼]를 저희 핑크랩이 진행했습니다.</span>\\n        <span class=\"date\">2024. 4. 1. 08:00</span>\\n        <span class=\"excerpt\">저희가 참 활동적인 무언가를 사부작사부작 하는 것을 좋아합니다.^^. 아주 예전에 현대 H-Mobility 해커톤 대회를 진행했구요. 그 다음은 비버웍스의 NLP 해커톤 대회를 진행했었죠. 그 후 서울로봇아카데미에서 자율주행과 로봇팔을 활용한 물건정리 관련 교육을 진행하고, WCRC 경진대회도 진행을 했었습니다. 와우~ 그리고 이번에 저희는 전북지역혁신플랫폼(RIS)의 일환으로 진행된 전북대학교의 미래수송기기사업단의 의뢰를 받아서 또 한 번 자율주행 SW 교육 및 경진대회를 진행했었습니다. 저런 멋진 이름의 대회를 또 저희가 진행할 수 있어서 너무나 다행이었지요. 저희 핑크랩이 원래 담당한 부분은 서전교육 실습 파트와 경진대회였습니다. 이번 행사를 위해 저희 핑크랩이 활동한 부분들이 또 많지요^^ 먼저 ..</span>\\n      </a>\\n    </div>\\n  \\n  \\n\\n            \\n        \\n            \\n  \\n    <div class=\"post-item\">\\n      <a href=\"/1462\">\\n        <span class=\"thum\">\\n          \\n            <img src=\"//i1.daumcdn.net/thumb/C264x200/?fname=https://blog.kakaocdn.net/dn/m9pE6/btsFYpkGtzR/o5xtp88nNOW92legQxV5zK/img.png\" alt=\"\">\\n          \\n        </span>\\n        <span class=\"title\">ROS/ROS2 사용할 때 Jupyter도 함께 써보세요.</span>\\n        <span class=\"date\">2024. 3. 22. 08:00</span>\\n        <span class=\"excerpt\">Jupyter Notebook을 아마 Python으로 딥러닝이나 분석하시는 분들은 많이들 사용하실 겁니다. 저도 VSCode를 많이 쓰지만, Juptyer 애드온을 연결해서 Jupyter로 개발도하고 테스트도 하는데요. 가끔 ROS/ROS2 공부하시는 분들과 대화할때 저런 상황이나 어떤 테스트 환경에서는 jupyter를 써도 될텐데 하면, 그렇게 할 수 있다는 것을 몰랐다며 놀래시는 분들이 간혹있습니다. 제가 소개한 적이 있는 UR로봇과 ROS의 사용 영상에서의 위 그림처럼 ROS 환경이 잘 잡힌 협동로봇도 간단히 Jupyter를 이용해서 기능 테스트가 가능하고, 또 본격적으로 패키지를 만들기 전에 여러 가능성을 손쉽게 테스트할 수 있습니다. 역시 제가 소개한 적이 있는 ROS1에서 movebase를 이..</span>\\n      </a>\\n    </div>\\n  \\n  \\n\\n            \\n        \\n            \\n  \\n    <div class=\"post-item\">\\n      <a href=\"/1460\">\\n        <span class=\"thum\">\\n          \\n            <img src=\"//i1.daumcdn.net/thumb/C264x200/?fname=https://blog.kakaocdn.net/dn/bEd4EE/btsFR9BRogv/7Df03x8h6bXSC2Pf1z4R81/img.png\" alt=\"\">\\n          \\n        </span>\\n        <span class=\"title\">ROS2 처음부터 차근차근 공부하고 싶으시다면 - 무료 R2R 과정 -</span>\\n        <span class=\"date\">2024. 3. 18. 08:00</span>\\n        <span class=\"excerpt\">제 블로그를 몇 번 오셨다면 아시겠지만, 저는 데이터사이언스, 딥러닝, 로봇 키워드로 많은 활동을 하고 있는데요. 여러 활동들 중 ROS2 교육에 대해 작은 과정하나를 무료로 오픈을 합니다. 유튜브를 통해서이구요. 뭐 유튜브도 수익이라는 것이 생길 수도 있지만, 저같이 오프라인형(^^) 사람에게 유튜브 수익은 .. 음.. 기대하기 어려우니, 그저 무료가 맞습니다.^^. https://pinkwink.kr/1395 ROS2 혼자 공부하기 좋은 책 추천 - ROS2 혼자 공부하는 로봇 SW 제목을 \"ROS2 혼자 공부하기 좋은 책\"이라고 잡으니 첫 문장부터 창피합니다. 최근 몇 개월간 작업한 ROS2 기초 책을 출판했습니다. 정확히는 9월 7일 출판예정인데, 이미 주요 온라인 서점에는 등 pinkwink.k..</span>\\n      </a>\\n    </div>\\n  \\n  \\n\\n            \\n        \\n            \\n  \\n    <div class=\"post-item\">\\n      <a href=\"/1457\">\\n        <span class=\"thum\">\\n          \\n            <img src=\"//i1.daumcdn.net/thumb/C264x200/?fname=https://blog.kakaocdn.net/dn/lSk41/btsEf0flxjs/ulZqLddYkzXLa7aV79NdCk/img.png\" alt=\"\">\\n          \\n        </span>\\n        <span class=\"title\">ROS2로 주행하는 다수의 주행로봇에 대한 경로 설정과 관리를 수행하는 관제 시스템을 개발한 수강생 팀 소개</span>\\n        <span class=\"date\">2024. 1. 31. 13:02</span>\\n        <span class=\"excerpt\">오늘도 저는 제가 참여하는 한 교육을 이수한 어떤 팀의 결과를 소개하려고 합니다. 이 팀은 ROS2로 구현된 모바일로봇을 가지고, 다수의 로봇의 경로와 임무를 관리하고 상태를 모니터링하는 관제 시스템을 개발한 팀입니다. 최근 제가 언급한 OpenRMF도 좋지만, 이렇게 본인들이 직접 필요 기능을 구현하려 노력하는 것이 실력 향상에는 더 큰 도움이 되는 것이라 생각합니다. 제가 하는 큰 교육 중 AI 로봇 관련 교육 안내는 https://addinedu-rosanddl.oopy.io/ ROS2와 인공지능을 활용한 자율주행 로봇 개발자 양성과정_5기 자율주행과 로봇응용분야 전문가로 성장할 인재들을 기다리고 있습니다. addinedu-rosanddl.oopy.io 위 링크에 있습니다. 프로젝트를 꼭 수행해야 ..</span>\\n      </a>\\n    </div>\\n  \\n  \\n\\n            \\n        \\n        <script async=\"\" src=\"https://pagead2.googlesyndication.com/pagead/js/adsbygoogle.js?client=ca-pub-2982459700139266\" crossorigin=\"anonymous\" data-checked-head=\"true\"></script>\\n<ins class=\"adsbygoogle\" style=\"display: block; height: 448px;\" data-ad-format=\"autorelaxed\" data-ad-client=\"ca-pub-2982459700139266\" data-ad-slot=\"4966491850\" data-adsbygoogle-status=\"done\" data-ad-status=\"filled\"><div id=\"aswift_1_host\" style=\"border: none; height: 448px; width: 747px; margin: 0px; padding: 0px; position: relative; visibility: visible; background-color: transparent; display: inline-block;\"><iframe id=\"aswift_1\" name=\"aswift_1\" style=\"left:0;position:absolute;top:0;border:0;width:747px;height:448px;\" sandbox=\"allow-forms allow-popups allow-popups-to-escape-sandbox allow-same-origin allow-scripts allow-top-navigation-by-user-activation\" width=\"747\" height=\"448\" frameborder=\"0\" marginwidth=\"0\" marginheight=\"0\" vspace=\"0\" hspace=\"0\" allowtransparency=\"true\" scrolling=\"no\" allow=\"attribution-reporting\" src=\"https://googleads.g.doubleclick.net/pagead/ads?client=ca-pub-2982459700139266&amp;output=html&amp;h=448&amp;slotname=4966491850&amp;adk=4078657658&amp;adf=1807177087&amp;pi=t.ma~as.4966491850&amp;w=747&amp;abgtt=6&amp;cr_col=4&amp;cr_row=2&amp;fwrn=2&amp;lmt=1715928720&amp;rafmt=9&amp;format=747x448&amp;url=https%3A%2F%2Fpinkwink.kr%2Fsearch%2F%25EB%2594%25A5%25EB%259F%25AC%25EB%258B%259D&amp;host=ca-host-pub-9691043933427338&amp;crui=image_stacked&amp;fwr=0&amp;wgl=1&amp;uach=WyJXaW5kb3dzIiwiMTUuMC4wIiwieDg2IiwiIiwiMTI1LjAuNjQyMi42MSIsbnVsbCwwLG51bGwsIjY0IixbWyJHb29nbGUgQ2hyb21lIiwiMTI1LjAuNjQyMi42MSJdLFsiQ2hyb21pdW0iLCIxMjUuMC42NDIyLjYxIl0sWyJOb3QuQS9CcmFuZCIsIjI0LjAuMC4wIl1dLDBd&amp;dt=1715928719659&amp;bpp=40&amp;bdt=269&amp;idt=469&amp;shv=r20240515&amp;mjsv=m202405130101&amp;ptt=9&amp;saldr=aa&amp;abxe=1&amp;cookie=ID%3D4e651fa853f61bec%3AT%3D1715927634%3ART%3D1715928396%3AS%3DALNI_MbaVSiSJX4X1COGez84GbqnXikysA&amp;gpic=UID%3D00000e206471bdf6%3AT%3D1715927634%3ART%3D1715928396%3AS%3DALNI_MZnonM6Vyc_vwxubn1eaNusFPnIdQ&amp;eo_id_str=ID%3D28637fb0bffdcc3e%3AT%3D1715927634%3ART%3D1715928396%3AS%3DAA-AfjaIXw_sTMqcQTkAtt1dseNe&amp;prev_fmts=0x0&amp;nras=1&amp;correlator=729607105026&amp;frm=20&amp;pv=1&amp;ga_vid=182270989.1715927634&amp;ga_sid=1715928720&amp;ga_hid=1596877164&amp;ga_fc=1&amp;u_tz=540&amp;u_his=3&amp;u_h=720&amp;u_w=1280&amp;u_ah=672&amp;u_aw=1280&amp;u_cd=24&amp;u_sd=1.5&amp;dmc=8&amp;adx=40&amp;ady=1854&amp;biw=827&amp;bih=533&amp;scr_x=0&amp;scr_y=0&amp;eid=44759876%2C44759927%2C44759842%2C31083360%2C31083636%2C95331688%2C95331982%2C31083688%2C95331711%2C95331954%2C95332416%2C31078668&amp;oid=2&amp;pvsid=2491544402075110&amp;tmod=695102093&amp;uas=0&amp;nvt=1&amp;ref=https%3A%2F%2Fpinkwink.kr%2F&amp;fc=1920&amp;brdim=0%2C0%2C0%2C0%2C1280%2C0%2C1280%2C672%2C843%2C533&amp;vis=1&amp;rsz=o%7C%7CEebr%7C&amp;abl=CS&amp;pfx=0&amp;fu=128&amp;bc=31&amp;bz=1.52&amp;psd=W251bGwsbnVsbCxudWxsLDNd&amp;nt=1&amp;ifi=2&amp;uci=a!2&amp;btvi=1&amp;fsb=1&amp;dtd=478\" data-google-container-id=\"a!2\" tabindex=\"0\" title=\"Advertisement\" aria-label=\"Advertisement\" data-google-query-id=\"CILJxc6MlIYDFUfDTAIdbG8H9g\" data-load-complete=\"true\"></iframe></div></ins>\\n<script>\\n     (adsbygoogle = window.adsbygoogle || []).push({});\\n</script>\\n      </div>\\n\\n      \\n\\n      \\n\\n      \\n        <div class=\"pagination\">\\n          <a class=\"prev no-more-prev\" style=\"display: none;\">이전</a>\\n          \\n            <a href=\"/search/%EB%94%A5%EB%9F%AC%EB%8B%9D?page=1\" style=\"display: none;\"><span class=\"selected\">1</span></a>\\n          \\n            <a href=\"/search/%EB%94%A5%EB%9F%AC%EB%8B%9D?page=2\" style=\"display: none;\"><span class=\"\">2</span></a>\\n          \\n            <a href=\"/search/%EB%94%A5%EB%9F%AC%EB%8B%9D?page=3\" style=\"display: none;\"><span class=\"\">3</span></a>\\n          \\n            <a href=\"/search/%EB%94%A5%EB%9F%AC%EB%8B%9D?page=4\" style=\"display: none;\"><span class=\"\">4</span></a>\\n          \\n            <a style=\"display: none;\"><span class=\"\">···</span></a>\\n          \\n            <a href=\"/search/%EB%94%A5%EB%9F%AC%EB%8B%9D?page=10\" style=\"display: none;\"><span class=\"\">10</span></a>\\n          \\n          <a href=\"/search/%EB%94%A5%EB%9F%AC%EB%8B%9D?page=2\" class=\"next \" style=\"display: none;\">다음</a>\\n        <a href=\"/search/%EB%94%A5%EB%9F%AC%EB%8B%9D?page=2\" class=\"btn view-more\">목록 더보기</a></div>\\n      \\n\\n    </article>\\n\\n  \\n  </section>\\n  <hr>\\n  <div class=\"revenue_unit_wrap position_list\">\\n  <div class=\"revenue_unit_item adsense responsive\">\\n    <div class=\"revenue_unit_info\">반응형</div>\\n    <script src=\"//pagead2.googlesyndication.com/pagead/js/adsbygoogle.js\" async=\"async\"></script>\\n    <ins class=\"adsbygoogle\" style=\"display: block; height: 280px;\" data-ad-host=\"ca-host-pub-9691043933427338\" data-ad-client=\"ca-pub-2982459700139266\" data-ad-format=\"auto\" data-adsbygoogle-status=\"done\"><div id=\"aswift_2_host\" style=\"border: none; height: 280px; width: 827px; margin: 0px; padding: 0px; position: relative; visibility: visible; background-color: transparent; display: inline-block;\"></div></ins>\\n    <script>(adsbygoogle = window.adsbygoogle || []).push({});</script>\\n  </div>\\n</div>\\n  <footer id=\"footer\">\\n    <p class=\"copyright\">DESIGN BY <a href=\"#\">TISTORY</a> <a href=\"https://pinkwink.tistory.com/manage\" class=\"admin\">관리자</a></p>\\n  </footer>\\n</div>\\n<script src=\"https://tistory1.daumcdn.net/tistory/371175/skin/images/script.js?_version_=1687613150\"></script>\\n\\n\\n\\n<script async=\"\" src=\"//pagead2.googlesyndication.com/pagead/js/adsbygoogle.js\"></script>\\n<div class=\"#menubar menu_toolbar \">\\n  <h2 class=\"screen_out\">티스토리툴바</h2>\\n</div>\\n<div class=\"#menubar menu_toolbar \"></div>\\n<div class=\"layer_tooltip\">\\n  <div class=\"inner_layer_tooltip\">\\n    <p class=\"desc_g\"></p>\\n  </div>\\n</div>\\n<iframe id=\"editEntry\" style=\"position:absolute;width:1px;height:1px;left:-100px;top:-100px\" src=\"//pinkwink.tistory.com/api\"></iframe>\\n\\n                        <!-- SyntaxHighlight - START -->\\n        <link href=\"//cdnjs.cloudflare.com/ajax/libs/highlight.js/10.7.3/styles/github.min.css\" rel=\"stylesheet\"><script src=\"//cdnjs.cloudflare.com/ajax/libs/highlight.js/10.7.3/highlight.min.js\"></script>\\n<script src=\"//cdnjs.cloudflare.com/ajax/libs/highlight.js/10.7.3/languages/delphi.min.js\"></script>\\n<script src=\"//cdnjs.cloudflare.com/ajax/libs/highlight.js/10.7.3/languages/php.min.js\"></script>\\n<script src=\"//cdnjs.cloudflare.com/ajax/libs/highlight.js/10.7.3/languages/python.min.js\"></script>\\n<script src=\"//cdnjs.cloudflare.com/ajax/libs/highlight.js/10.7.3/languages/r.min.js\" defer=\"\"></script>\\n<script src=\"//cdnjs.cloudflare.com/ajax/libs/highlight.js/10.7.3/languages/ruby.min.js\"></script>\\n<script src=\"//cdnjs.cloudflare.com/ajax/libs/highlight.js/10.7.3/languages/scala.min.js\" defer=\"\"></script>\\n<script src=\"//cdnjs.cloudflare.com/ajax/libs/highlight.js/10.7.3/languages/shell.min.js\"></script>\\n<script src=\"//cdnjs.cloudflare.com/ajax/libs/highlight.js/10.7.3/languages/sql.min.js\"></script>\\n<script src=\"//cdnjs.cloudflare.com/ajax/libs/highlight.js/10.7.3/languages/swift.min.js\" defer=\"\"></script>\\n<script src=\"//cdnjs.cloudflare.com/ajax/libs/highlight.js/10.7.3/languages/typescript.min.js\" defer=\"\"></script>\\n<script src=\"//cdnjs.cloudflare.com/ajax/libs/highlight.js/10.7.3/languages/vbnet.min.js\" defer=\"\"></script>\\n  <script>hljs.initHighlightingOnLoad();</script>\\n\\n\\n        <!-- SyntaxHighlight - END -->\\n\\n                \\n                <script type=\"text/javascript\">(function($) {\\n    $(document).ready(function() {\\n        lightbox.options.fadeDuration = 200;\\n        lightbox.options.resizeDuration = 200;\\n        lightbox.options.wrapAround = false;\\n        lightbox.options.albumLabel = \"%1 / %2\";\\n    })\\n})(tjQuery);</script>\\n<div style=\"margin:0; padding:0; border:none; background:none; float:none; clear:none; z-index:0\"></div>\\n<script type=\"text/javascript\" src=\"https://tistory1.daumcdn.net/tistory_admin/userblog/tistory-c9fbfae426e43fbd9d07ad246065fb3a17523cb3/static/script/common.js\"></script>\\n<script type=\"text/javascript\">window.roosevelt_params_queue = window.roosevelt_params_queue || [{channel_id: \\'dk\\', channel_label: \\'{tistory}\\'}]</script>\\n<script type=\"text/javascript\" src=\"//t1.daumcdn.net/midas/rt/dk_bt/roosevelt_dk_bt.js\" async=\"async\"></script>\\n<script type=\"text/javascript\" src=\"https://tistory1.daumcdn.net/tistory_admin/userblog/tistory-c9fbfae426e43fbd9d07ad246065fb3a17523cb3/static/script/menubar.min.js\"></script>\\n\\n                \\n                <script>window.tiara = {\"svcDomain\":\"user.tistory.com\",\"section\":\"글뷰\",\"trackPage\":\"검색뷰_보기\",\"page\":\"검색뷰\",\"key\":\"371175\",\"customProps\":{\"userId\":\"0\",\"blogId\":\"371175\",\"entryId\":\"null\",\"role\":\"guest\",\"trackPage\":\"검색뷰_보기\",\"filterTarget\":false},\"entry\":null,\"kakaoAppKey\":\"3e6ddd834b023f24221217e370daed18\",\"appUserId\":\"null\"}</script>\\n<script type=\"module\" src=\"https://t1.daumcdn.net/tistory_admin/frontend/tiara/v1.0.0/index.js\"></script>\\n<script src=\"https://t1.daumcdn.net/tistory_admin/frontend/tiara/v1.0.0/polyfills-legacy.min.js\" nomodule=\"true\" defer=\"true\"></script>\\n<script src=\"https://t1.daumcdn.net/tistory_admin/frontend/tiara/v1.0.0/index-legacy.js\" nomodule=\"true\" defer=\"true\"></script>\\n\\n                \\n\\n<div id=\"lightboxOverlay\" class=\"lightboxOverlay\" style=\"display: none;\"></div><div id=\"lightbox\" class=\"lightbox\" style=\"display: none;\"><div class=\"lb-outerContainer\"><div class=\"lb-container\"><img class=\"lb-image\" src=\"data:image/gif;base64,R0lGODlhAQABAIAAAP///wAAACH5BAEAAAAALAAAAAABAAEAAAICRAEAOw==\"><div class=\"lb-nav\"><a class=\"lb-prev\" href=\"\"></a><a class=\"lb-next\" href=\"\"></a></div><div class=\"lb-loader\"><a class=\"lb-cancel\"></a></div></div></div><div class=\"lb-dataContainer\"><div class=\"lb-data\"><div class=\"lb-details\"><span class=\"lb-caption\"></span><span class=\"lb-number\"></span></div><div class=\"lb-closeContainer\"><a class=\"lb-close\"></a></div></div></div></div><iframe name=\"googlefcPresent\" style=\"display: none; width: 0px; height: 0px; border: none; z-index: -1000; left: -1000px; top: -1000px;\"></iframe><iframe name=\"__tcfapiLocator\" src=\"about:blank\" style=\"display: none; width: 0px; height: 0px; border: none; z-index: -1000; left: -1000px; top: -1000px;\"></iframe><iframe name=\"googlefcInactive\" src=\"about:blank\" style=\"display: none; width: 0px; height: 0px; border: none; z-index: -1000; left: -1000px; top: -1000px;\"></iframe><iframe name=\"googlefcLoaded\" src=\"about:blank\" style=\"display: none; width: 0px; height: 0px; border: none; z-index: -1000; left: -1000px; top: -1000px;\"></iframe><iframe src=\"https://tpc.googlesyndication.com/sodar/sodar2/225/runner.html\" width=\"0\" height=\"0\" style=\"display: none;\"></iframe><iframe src=\"https://www.google.com/recaptcha/api2/aframe\" width=\"0\" height=\"0\" style=\"display: none;\"></iframe></body><iframe id=\"google_esf\" name=\"google_esf\" src=\"https://googleads.g.doubleclick.net/pagead/html/r20240515/r20110914/zrt_lookup_fy2021.html\" style=\"display: none;\"></iframe><ins class=\"adsbygoogle adsbygoogle-noablate\" style=\"display: none !important; width: 100vw !important; height: 100vh !important; inset: 0px auto auto 0px !important; clear: none !important; float: none !important; margin: 0px !important; max-height: none !important; max-width: none !important; opacity: 1 !important; overflow: visible !important; padding: 0px !important; position: fixed !important; vertical-align: baseline !important; visibility: visible !important; z-index: 2147483647 !important; background: transparent !important;\" data-adsbygoogle-status=\"done\" aria-hidden=\"true\" data-ad-status=\"filled\" data-vignette-loaded=\"true\"><div id=\"aswift_3_host\" style=\"border: none !important; height: 100vh !important; width: 100vw !important; margin: 0px !important; padding: 0px !important; position: relative !important; visibility: visible !important; background-color: transparent !important; display: inline-block !important; inset: auto !important; clear: none !important; float: none !important; max-height: none !important; max-width: none !important; opacity: 1 !important; overflow: visible !important; vertical-align: baseline !important; z-index: auto !important;\"><iframe id=\"aswift_3\" name=\"aswift_3\" style=\"width: 100vw !important; height: 100vh !important; inset: 0px auto auto 0px !important; position: absolute !important; clear: none !important; display: inline !important; float: none !important; margin: 0px !important; max-height: none !important; max-width: none !important; opacity: 1 !important; overflow: visible !important; padding: 0px !important; vertical-align: baseline !important; visibility: visible !important; z-index: auto !important;\" sandbox=\"allow-forms allow-popups allow-popups-to-escape-sandbox allow-same-origin allow-scripts allow-top-navigation-by-user-activation\" width=\"\" height=\"\" frameborder=\"0\" marginwidth=\"0\" marginheight=\"0\" vspace=\"0\" hspace=\"0\" allowtransparency=\"true\" scrolling=\"no\" allow=\"attribution-reporting\" src=\"https://googleads.g.doubleclick.net/pagead/html/r20240515/r20110914/zrt_lookup_fy2021.html#RS-0-&amp;adk=3397874648&amp;client=ca-pub-2982459700139266&amp;fa=8&amp;ifi=4&amp;uci=a!4\" data-google-container-id=\"a!4\" tabindex=\"0\" title=\"Advertisement\" aria-label=\"Advertisement\" data-google-query-id=\"CM_Tws6MlIYDFbLhFgUdO9sAXw\" data-load-complete=\"true\"></iframe></div></ins></html>'"
      ]
     },
     "execution_count": 31,
     "metadata": {},
     "output_type": "execute_result"
    }
   ],
   "source": [
    "# 현재 화면의 html 코드 가져오기\n",
    "driver.page_source"
   ]
  },
  {
   "cell_type": "code",
   "execution_count": 32,
   "id": "aa4a5b96-1763-4291-9aed-2e47a91dd2d7",
   "metadata": {},
   "outputs": [],
   "source": [
    "from bs4 import BeautifulSoup\n",
    "\n",
    "req = driver.page_source\n",
    "soup = BeautifulSoup(req, 'html.parser')"
   ]
  },
  {
   "cell_type": "code",
   "execution_count": 34,
   "id": "482a4875-7b5c-4ac9-8d7f-431732152b9a",
   "metadata": {
    "scrolled": true
   },
   "outputs": [
    {
     "data": {
      "text/plain": [
       "[<div class=\"post-item\">\n",
       " <a href=\"/1467\">\n",
       " <span class=\"thum\">\n",
       " <img alt=\"\" src=\"//i1.daumcdn.net/thumb/C264x200/?fname=https://blog.kakaocdn.net/dn/TwCgp/btsGGecgZpL/DywL2HgCuULGpzfxzdHIUK/img.png\"/>\n",
       " </span>\n",
       " <span class=\"title\">핑크랩이 잘 하고, 하고 싶은 일</span>\n",
       " <span class=\"date\">2024. 4. 17. 09:18</span>\n",
       " <span class=\"excerpt\">핑크랩이라는 법인이 만들어진게 2022년 5월 23일입니다. 정말 아무 생각없이 일만하면서 만 2년을 약 한 달 앞두고 있습니다. 한 2년쯤 해보니 이제 핑크랩이 하고 싶은 일들이 조금은 정리가 되는 것 같습니다. 대표이사인 저 또한 너무 제가 하고 싶은 일 위주로 너무 바쁘게 움직이고 있으니.ㅠㅠ. 이제 우리 핑크랩이 하고 싶은 일을 조금 정리해 둘 필요가 있다고 느꼈습니다. 기술 개발 저희는 로봇과 딥러닝이라는 키워드가 들어간 분야에서 비록 작은 규모의 회사이지만, 그런 규모에 비해 많은 활동을 했습니다. 그 중 최근 개발한 재미있는 것들을 짧게 보여드리겠습니다. 관제 시스템 OpenRMF OpenRMF라는 관제 시스템을 이용해서 실제로 로봇 관제를 기술개발한 후 납품을 완료한 것이 최근의 일인데, ..</span>\n",
       " </a>\n",
       " </div>,\n",
       " <div class=\"post-item\">\n",
       " <a href=\"/1466\">\n",
       " <span class=\"thum\">\n",
       " <img alt=\"\" src=\"//i1.daumcdn.net/thumb/C264x200/?fname=https://blog.kakaocdn.net/dn/HPXNR/btsGBa9iwuA/PdOSspidjryAgddsnj0EkK/img.png\"/>\n",
       " </span>\n",
       " <span class=\"title\">실시간 수어 통역 화상 통신 시스템 개발</span>\n",
       " <span class=\"date\">2024. 4. 15. 08:00</span>\n",
       " <span class=\"excerpt\">제가 참여하거나 수행하는 여러 수업중에 AI 자율주행 과정이라는 국비과정이 있습니다. [저희 수업에 대한 소개는 글 하단에~] 그 과정은 총 4번의 팀프로젝트를 수행하도록 되어 있는데. 그 중 3번째 프로젝트인 딥러닝 프로젝트에 대한 발표 영상 하나를 소개해 드릴려고 합니다. 저는 이렇게 우리 수강생들의 결과를 하나씩 소개하는 일이 너무나 즐겁습니다.^^. 배경 대한민국을 위키백과에서 검색해서 보면 특이한 사항이 하나 보입니다. 일단 면적, 10만 제곱킬로미터로 다른나라랑 면적 비교할때 편합니다. 응? 100만 제곱이 있으면 우리나라의 10배입니다하면 되니까요. 그건 중요한게 아니고, 바로 공용어 입니다. 우리나라의 공용어는 한국어라고 당연히 생각하시겠지만, 한국어와 함께 수어가 공용어로 되어 있습니다...</span>\n",
       " </a>\n",
       " </div>,\n",
       " <div class=\"post-item\">\n",
       " <a href=\"/1465\">\n",
       " <span class=\"thum\">\n",
       " <img alt=\"\" src=\"//i1.daumcdn.net/thumb/C264x200/?fname=https://blog.kakaocdn.net/dn/tjKDQ/btsGCdxaPIi/jIvVFy0ZdPMPc9oNV81441/img.png\"/>\n",
       " </span>\n",
       " <span class=\"title\">AI 자율주행과정 수강생들의 발표 - 딥러닝을 이용한 자율주행 로봇</span>\n",
       " <span class=\"date\">2024. 4. 14. 08:00</span>\n",
       " <span class=\"excerpt\">제가 참여하거나 수행하는 여러 수업중에 AI 자율주행 과정이라는 국비과정이 있습니다. [저희 수업에 대한 소개는 글 하단에~] 그 과정은 총 4번의 팀프로젝트를 수행하도록 되어 있는데. 그 중 3번째 프로젝트인 딥러닝 프로젝트에 대한 발표 영상 하나를 소개해 드릴려고 합니다. 흠. 프로젝트를 수행하는 기간 동안 제가 자주 지켜보느라 돌아다녔는데요. 그 때 마다 저 이름이 보였는데, 핑크라~라고 읽더군요. 뒤에 왜 저렇게 이름을 지었는지 알 수 있습니다.ㅠㅠ. 저 라즈베리파이5는 제가 어느 날 수업때 하루 종일 고민하는 어떤 주제를 던지고 그 결과를 받았는데 재미있었던 내용으로 제출한 친구에게 상으로 준 것인데, 잘 활용하고 있네요. 아무튼, ROS를 [아직 다 배우지 않았기 때문이기도 하지만] 사용하지 ..</span>\n",
       " </a>\n",
       " </div>,\n",
       " <div class=\"post-item\">\n",
       " <a href=\"/1464\">\n",
       " <span class=\"thum\">\n",
       " <img alt=\"\" src=\"//i1.daumcdn.net/thumb/C264x200/?fname=https://blog.kakaocdn.net/dn/EggAh/btsGe6T5Wnh/MHNbwBxsx95VmuY13JDWo0/img.png\"/>\n",
       " </span>\n",
       " <span class=\"title\">PinkLAB 핑크랩이 기업부설연구소 인증을 받았습니다.</span>\n",
       " <span class=\"date\">2024. 4. 3. 08:00</span>\n",
       " <span class=\"excerpt\">사실 핑크랩은 원래 1인 기업이었습니다.ㅠㅠ. 그게 일이 생기고, 그 일이 커지고, 뭐 그러면서 벌써 정규직만 5명, 비정규직으로 월급을 받는 경우는 4~6명 사이가 왔다갔다 합니다. 규모는 작은데, 뭔가 계속 일들이 생기는.... 그래서 이러저런 고민을 하다가 핑크랩이 드뎌 기업부설연구소 인증을 받게 되었습니다. 참. 신기하고 또 뿌듯하면서, 또 앞으로 걱정거리도 많아지기 시작했습니다ㅠㅠ. 그래서 기념비적으로 잠시 핑크랩을 이 시점. 한 번 소개해보고 싶었습니다. PinkLAB 우리는 22년 5월 23일에 만들어졌습니다. 그 후 교육컨텐츠와 각종 행사들, 그리고, AI 로봇 관련 기술개발들을 했습니다. 특히 최근에는 관제시스템에 대한 많은 성과를 가지게 되었습니다. 자율주행이나, 관제시스템, 로봇팔, ..</span>\n",
       " </a>\n",
       " </div>,\n",
       " <div class=\"post-item\">\n",
       " <a href=\"/1463\">\n",
       " <span class=\"thum\">\n",
       " <img alt=\"\" src=\"//i1.daumcdn.net/thumb/C264x200/?fname=https://blog.kakaocdn.net/dn/UF5Qc/btsGc4vpSgq/Ro3BHmSkK2mW3kKTBTDAKK/img.png\"/>\n",
       " </span>\n",
       " <span class=\"title\">2024 자율주행 SW 교육 및 경진대회[전북지역혁신플랫폼]를 저희 핑크랩이 진행했습니다.</span>\n",
       " <span class=\"date\">2024. 4. 1. 08:00</span>\n",
       " <span class=\"excerpt\">저희가 참 활동적인 무언가를 사부작사부작 하는 것을 좋아합니다.^^. 아주 예전에 현대 H-Mobility 해커톤 대회를 진행했구요. 그 다음은 비버웍스의 NLP 해커톤 대회를 진행했었죠. 그 후 서울로봇아카데미에서 자율주행과 로봇팔을 활용한 물건정리 관련 교육을 진행하고, WCRC 경진대회도 진행을 했었습니다. 와우~ 그리고 이번에 저희는 전북지역혁신플랫폼(RIS)의 일환으로 진행된 전북대학교의 미래수송기기사업단의 의뢰를 받아서 또 한 번 자율주행 SW 교육 및 경진대회를 진행했었습니다. 저런 멋진 이름의 대회를 또 저희가 진행할 수 있어서 너무나 다행이었지요. 저희 핑크랩이 원래 담당한 부분은 서전교육 실습 파트와 경진대회였습니다. 이번 행사를 위해 저희 핑크랩이 활동한 부분들이 또 많지요^^ 먼저 ..</span>\n",
       " </a>\n",
       " </div>,\n",
       " <div class=\"post-item\">\n",
       " <a href=\"/1462\">\n",
       " <span class=\"thum\">\n",
       " <img alt=\"\" src=\"//i1.daumcdn.net/thumb/C264x200/?fname=https://blog.kakaocdn.net/dn/m9pE6/btsFYpkGtzR/o5xtp88nNOW92legQxV5zK/img.png\"/>\n",
       " </span>\n",
       " <span class=\"title\">ROS/ROS2 사용할 때 Jupyter도 함께 써보세요.</span>\n",
       " <span class=\"date\">2024. 3. 22. 08:00</span>\n",
       " <span class=\"excerpt\">Jupyter Notebook을 아마 Python으로 딥러닝이나 분석하시는 분들은 많이들 사용하실 겁니다. 저도 VSCode를 많이 쓰지만, Juptyer 애드온을 연결해서 Jupyter로 개발도하고 테스트도 하는데요. 가끔 ROS/ROS2 공부하시는 분들과 대화할때 저런 상황이나 어떤 테스트 환경에서는 jupyter를 써도 될텐데 하면, 그렇게 할 수 있다는 것을 몰랐다며 놀래시는 분들이 간혹있습니다. 제가 소개한 적이 있는 UR로봇과 ROS의 사용 영상에서의 위 그림처럼 ROS 환경이 잘 잡힌 협동로봇도 간단히 Jupyter를 이용해서 기능 테스트가 가능하고, 또 본격적으로 패키지를 만들기 전에 여러 가능성을 손쉽게 테스트할 수 있습니다. 역시 제가 소개한 적이 있는 ROS1에서 movebase를 이..</span>\n",
       " </a>\n",
       " </div>,\n",
       " <div class=\"post-item\">\n",
       " <a href=\"/1460\">\n",
       " <span class=\"thum\">\n",
       " <img alt=\"\" src=\"//i1.daumcdn.net/thumb/C264x200/?fname=https://blog.kakaocdn.net/dn/bEd4EE/btsFR9BRogv/7Df03x8h6bXSC2Pf1z4R81/img.png\"/>\n",
       " </span>\n",
       " <span class=\"title\">ROS2 처음부터 차근차근 공부하고 싶으시다면 - 무료 R2R 과정 -</span>\n",
       " <span class=\"date\">2024. 3. 18. 08:00</span>\n",
       " <span class=\"excerpt\">제 블로그를 몇 번 오셨다면 아시겠지만, 저는 데이터사이언스, 딥러닝, 로봇 키워드로 많은 활동을 하고 있는데요. 여러 활동들 중 ROS2 교육에 대해 작은 과정하나를 무료로 오픈을 합니다. 유튜브를 통해서이구요. 뭐 유튜브도 수익이라는 것이 생길 수도 있지만, 저같이 오프라인형(^^) 사람에게 유튜브 수익은 .. 음.. 기대하기 어려우니, 그저 무료가 맞습니다.^^. https://pinkwink.kr/1395 ROS2 혼자 공부하기 좋은 책 추천 - ROS2 혼자 공부하는 로봇 SW 제목을 \"ROS2 혼자 공부하기 좋은 책\"이라고 잡으니 첫 문장부터 창피합니다. 최근 몇 개월간 작업한 ROS2 기초 책을 출판했습니다. 정확히는 9월 7일 출판예정인데, 이미 주요 온라인 서점에는 등 pinkwink.k..</span>\n",
       " </a>\n",
       " </div>,\n",
       " <div class=\"post-item\">\n",
       " <a href=\"/1457\">\n",
       " <span class=\"thum\">\n",
       " <img alt=\"\" src=\"//i1.daumcdn.net/thumb/C264x200/?fname=https://blog.kakaocdn.net/dn/lSk41/btsEf0flxjs/ulZqLddYkzXLa7aV79NdCk/img.png\"/>\n",
       " </span>\n",
       " <span class=\"title\">ROS2로 주행하는 다수의 주행로봇에 대한 경로 설정과 관리를 수행하는 관제 시스템을 개발한 수강생 팀 소개</span>\n",
       " <span class=\"date\">2024. 1. 31. 13:02</span>\n",
       " <span class=\"excerpt\">오늘도 저는 제가 참여하는 한 교육을 이수한 어떤 팀의 결과를 소개하려고 합니다. 이 팀은 ROS2로 구현된 모바일로봇을 가지고, 다수의 로봇의 경로와 임무를 관리하고 상태를 모니터링하는 관제 시스템을 개발한 팀입니다. 최근 제가 언급한 OpenRMF도 좋지만, 이렇게 본인들이 직접 필요 기능을 구현하려 노력하는 것이 실력 향상에는 더 큰 도움이 되는 것이라 생각합니다. 제가 하는 큰 교육 중 AI 로봇 관련 교육 안내는 https://addinedu-rosanddl.oopy.io/ ROS2와 인공지능을 활용한 자율주행 로봇 개발자 양성과정_5기 자율주행과 로봇응용분야 전문가로 성장할 인재들을 기다리고 있습니다. addinedu-rosanddl.oopy.io 위 링크에 있습니다. 프로젝트를 꼭 수행해야 ..</span>\n",
       " </a>\n",
       " </div>]"
      ]
     },
     "execution_count": 34,
     "metadata": {},
     "output_type": "execute_result"
    }
   ],
   "source": [
    "soup.select('.post-item')"
   ]
  },
  {
   "cell_type": "code",
   "execution_count": 35,
   "id": "b31c879d-f498-4e65-abb3-704b75b4a2d1",
   "metadata": {},
   "outputs": [
    {
     "data": {
      "text/plain": [
       "8"
      ]
     },
     "execution_count": 35,
     "metadata": {},
     "output_type": "execute_result"
    }
   ],
   "source": [
    "contents = soup.select('.post-item')\n",
    "len(contents)"
   ]
  },
  {
   "cell_type": "code",
   "execution_count": 36,
   "id": "98271f00-e3f3-4da6-8471-fbc05faa8edc",
   "metadata": {},
   "outputs": [
    {
     "data": {
      "text/plain": [
       "<div class=\"post-item\">\n",
       "<a href=\"/1465\">\n",
       "<span class=\"thum\">\n",
       "<img alt=\"\" src=\"//i1.daumcdn.net/thumb/C264x200/?fname=https://blog.kakaocdn.net/dn/tjKDQ/btsGCdxaPIi/jIvVFy0ZdPMPc9oNV81441/img.png\"/>\n",
       "</span>\n",
       "<span class=\"title\">AI 자율주행과정 수강생들의 발표 - 딥러닝을 이용한 자율주행 로봇</span>\n",
       "<span class=\"date\">2024. 4. 14. 08:00</span>\n",
       "<span class=\"excerpt\">제가 참여하거나 수행하는 여러 수업중에 AI 자율주행 과정이라는 국비과정이 있습니다. [저희 수업에 대한 소개는 글 하단에~] 그 과정은 총 4번의 팀프로젝트를 수행하도록 되어 있는데. 그 중 3번째 프로젝트인 딥러닝 프로젝트에 대한 발표 영상 하나를 소개해 드릴려고 합니다. 흠. 프로젝트를 수행하는 기간 동안 제가 자주 지켜보느라 돌아다녔는데요. 그 때 마다 저 이름이 보였는데, 핑크라~라고 읽더군요. 뒤에 왜 저렇게 이름을 지었는지 알 수 있습니다.ㅠㅠ. 저 라즈베리파이5는 제가 어느 날 수업때 하루 종일 고민하는 어떤 주제를 던지고 그 결과를 받았는데 재미있었던 내용으로 제출한 친구에게 상으로 준 것인데, 잘 활용하고 있네요. 아무튼, ROS를 [아직 다 배우지 않았기 때문이기도 하지만] 사용하지 ..</span>\n",
       "</a>\n",
       "</div>"
      ]
     },
     "execution_count": 36,
     "metadata": {},
     "output_type": "execute_result"
    }
   ],
   "source": [
    "contents[2]"
   ]
  },
  {
   "cell_type": "code",
   "execution_count": 37,
   "id": "d69666b0-9201-4bba-9e40-f8d43da127e5",
   "metadata": {},
   "outputs": [],
   "source": [
    "driver.quit()"
   ]
  },
  {
   "cell_type": "code",
   "execution_count": null,
   "id": "f4134e75-9f9a-4e69-b1eb-acd022252b1c",
   "metadata": {},
   "outputs": [],
   "source": []
  }
 ],
 "metadata": {
  "kernelspec": {
   "display_name": "Python 3 (ipykernel)",
   "language": "python",
   "name": "python3"
  },
  "language_info": {
   "codemirror_mode": {
    "name": "ipython",
    "version": 3
   },
   "file_extension": ".py",
   "mimetype": "text/x-python",
   "name": "python",
   "nbconvert_exporter": "python",
   "pygments_lexer": "ipython3",
   "version": "3.8.19"
  }
 },
 "nbformat": 4,
 "nbformat_minor": 5
}
